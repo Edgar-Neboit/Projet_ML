{
 "cells": [
  {
   "cell_type": "markdown",
   "id": "d5a5509d-b889-4bf3-beaa-95372175aaf3",
   "metadata": {},
   "source": [
    "# Python Linear regression, GLM, SVM"
   ]
  },
  {
   "cell_type": "code",
   "execution_count": 47,
   "id": "73012a7a-c751-4117-9d59-3b1f8fcf8ccb",
   "metadata": {},
   "outputs": [],
   "source": [
    "import pandas as pd\n",
    "import numpy as np\n",
    "import copy\n",
    "import random\n",
    "import itertools\n",
    "%matplotlib inline\n",
    "import matplotlib.pyplot as plt\n",
    "import time"
   ]
  },
  {
   "cell_type": "markdown",
   "id": "9a77702b-da64-4531-9113-409a79d7c910",
   "metadata": {},
   "source": [
    "### Fonction utiles et recuperation des données "
   ]
  },
  {
   "cell_type": "markdown",
   "id": "9c9c6666-1d39-4e05-a7a3-ef1f32dab6c9",
   "metadata": {},
   "source": [
    "Ici changer chemin accès DATADIR_UCI et SIGNALS "
   ]
  },
  {
   "cell_type": "code",
   "execution_count": 48,
   "id": "ed2b2335",
   "metadata": {},
   "outputs": [
    {
     "name": "stdout",
     "output_type": "stream",
     "text": [
      "Data loaded and preprocessed\n"
     ]
    }
   ],
   "source": [
    "## LIBRARIES\n",
    "import seaborn as sns\n",
    "\n",
    "from sklearn.model_selection import train_test_split\n",
    "\n",
    "\n",
    "randomseed = 1234\n",
    "\n",
    "## DATA LOADING AND PREPROCESSING\n",
    "# Load the data\n",
    "gym = pd.read_csv('../../gym_members_exercise_tracking.csv')\n",
    "\n",
    "# set 'Gender', 'Workout_Type', 'Workout_Frequency (days/week)' and 'Experience_Level' as categorical\n",
    "for col in ['Gender', 'Workout_Type', 'Workout_Frequency (days/week)', 'Experience_Level']:\n",
    "    gym[col] = gym[col].astype('category')\n",
    "\n",
    "# log transform Weight and BMI\n",
    "gym['Weight (kg)'] = np.log1p(gym['Weight (kg)'])\n",
    "\n",
    "# transform 'Fat_Percentage'\n",
    "max_fat = gym['Fat_Percentage'].max()\n",
    "gym['Fat_Percentage'] = gym['Fat_Percentage'].apply(lambda x: np.sqrt(max_fat+1)-x)\n",
    "\n",
    "# rename transformed columns\n",
    "gym.rename(columns={'Weight (kg)': 'LWeight', 'Fat_Percentage': 'SFat_Percentage'}, inplace=True)\n",
    "\n",
    "gym.drop(columns=['BMI'], inplace=True)\n",
    "\n",
    "# divide into train and test set\n",
    "gym_train, gym_test = train_test_split(gym, test_size=0.2, random_state=randomseed)\n",
    "\n",
    "# Create gym_train_scale, gym_test_scale\n",
    "gym_train_scale = gym_train.copy()\n",
    "gym_test_scale = gym_test.copy()\n",
    "\n",
    "# Scale the data\n",
    "from sklearn.preprocessing import StandardScaler\n",
    "scaler = StandardScaler()\n",
    "gym_train_scale[['LWeight', 'Height (m)', 'Max_BPM', 'Avg_BPM', 'Resting_BPM', 'Session_Duration (hours)',\n",
    "                             'Water_Intake (liters)', 'SFat_Percentage', 'Workout_Frequency (days/week)', 'Calories_Burned']] = scaler.fit_transform(gym_train_scale[['LWeight', 'Height (m)', 'Max_BPM', 'Avg_BPM', 'Resting_BPM', 'Session_Duration (hours)',\n",
    "                             'Water_Intake (liters)', 'SFat_Percentage', 'Workout_Frequency (days/week)', 'Calories_Burned']])\n",
    "\n",
    "gym_test_scale[['LWeight', 'Height (m)', 'Max_BPM', 'Avg_BPM', 'Resting_BPM', 'Session_Duration (hours)',\n",
    "                             'Water_Intake (liters)', 'SFat_Percentage', 'Workout_Frequency (days/week)', 'Calories_Burned']] = scaler.transform(gym_test_scale[['LWeight', 'Height (m)', 'Max_BPM', 'Avg_BPM', 'Resting_BPM', 'Session_Duration (hours)',\n",
    "                             'Water_Intake (liters)', 'SFat_Percentage', 'Workout_Frequency (days/week)', 'Calories_Burned']])\n",
    "\n",
    "\n",
    "# Create X_train_exp_level, X_test_exp_level, y_train_exp_level, y_test_exp_level\n",
    "X_train_exp_level = gym_train.drop(columns=['Experience_Level'])\n",
    "X_train_exp_level_scale = gym_train_scale.drop(columns=['Experience_Level'])\n",
    "y_train_exp_level = gym_train['Experience_Level']\n",
    "X_test_exp_level = gym_test.drop(columns=['Experience_Level'])\n",
    "X_test_exp_level_scale = gym_test_scale.drop(columns=['Experience_Level'])\n",
    "y_test_exp_level = gym_test['Experience_Level']\n",
    "\n",
    "# Create X_train_calories, X_test_calories, y_train_calories, y_test_calories\n",
    "X_train_calories = gym_train.drop(columns=['Calories_Burned'])\n",
    "X_train_calories_scale = gym_train_scale.drop(columns=['Calories_Burned'])\n",
    "y_train_calories = gym_train['Calories_Burned']\n",
    "X_test_calories = gym_test.drop(columns=['Calories_Burned'])\n",
    "X_test_calories_scale = gym_test_scale.drop(columns=['Calories_Burned'])\n",
    "y_test_calories = gym_test['Calories_Burned']\n",
    "\n",
    "print(\"Data loaded and preprocessed\")"
   ]
  },
  {
   "cell_type": "code",
   "execution_count": 49,
   "id": "e81f8395",
   "metadata": {},
   "outputs": [
    {
     "name": "stdout",
     "output_type": "stream",
     "text": [
      "     Age  Gender   LWeight  Height (m)   Max_BPM   Avg_BPM  Resting_BPM  \\\n",
      "40    31  Female -1.367641   -1.679753  1.327567 -0.916129    -0.283251   \n",
      "394   40    Male  0.977844    1.568419  0.716570  0.881297    -0.283251   \n",
      "219   36    Male  1.568830    0.331020  0.978426  0.812165     1.649810   \n",
      "677   40  Female -1.098841   -0.519692  1.589423 -1.676579     1.235583   \n",
      "883   29  Female -1.352989   -1.215728 -1.029136 -0.846998    -1.249781   \n",
      "..   ...     ...       ...         ...       ...       ...          ...   \n",
      "61    51  Female -1.673714   -0.751704  1.589423 -0.501339     0.959431   \n",
      "782   39  Female -0.874024   -0.983716  0.367428  0.466506     0.959431   \n",
      "706   34    Male  1.640443    0.949719 -1.552848 -0.708734     0.545204   \n",
      "857   53  Female -0.371507   -1.370403  1.240281 -0.363075    -0.007099   \n",
      "512   30  Female -0.674360   -0.751704 -0.505425 -0.224812     1.649810   \n",
      "\n",
      "     Session_Duration (hours)  Calories_Burned Workout_Type  SFat_Percentage  \\\n",
      "40                   0.650332         0.206219       Cardio        -0.534067   \n",
      "394                  0.352920         1.031597       Cardio         0.443930   \n",
      "219                 -0.212165         0.398683         HIIT        -0.261511   \n",
      "677                  0.025766        -0.559940     Strength        -1.287606   \n",
      "883                  0.204213        -0.130595         Yoga        -0.261511   \n",
      "..                        ...              ...          ...              ...   \n",
      "61                  -0.539319        -0.915260         Yoga        -1.431901   \n",
      "782                 -1.104403        -0.893052         Yoga        -1.239508   \n",
      "706                 -0.241906        -0.160205         HIIT         0.235504   \n",
      "857                  1.512829         0.716991         HIIT         0.828715   \n",
      "512                  1.750759         1.446137     Strength         1.133337   \n",
      "\n",
      "     Water_Intake (liters)  Workout_Frequency (days/week)  \n",
      "40               -1.060853                      -1.466421  \n",
      "394              -1.060853                      -0.366252  \n",
      "219               1.272039                      -1.466421  \n",
      "677              -1.560759                      -0.366252  \n",
      "883              -0.061042                      -0.366252  \n",
      "..                     ...                            ...  \n",
      "61               -0.894218                       0.733917  \n",
      "782              -1.060853                      -1.466421  \n",
      "706               1.605309                       0.733917  \n",
      "857               0.105593                       0.733917  \n",
      "512               0.105593                       0.733917  \n",
      "\n",
      "[195 rows x 13 columns]\n"
     ]
    }
   ],
   "source": [
    "print(X_test_exp_level_scale)"
   ]
  },
  {
   "cell_type": "code",
   "execution_count": 50,
   "id": "e0f26340",
   "metadata": {},
   "outputs": [
    {
     "name": "stdout",
     "output_type": "stream",
     "text": [
      "0      3\n",
      "1      2\n",
      "2      2\n",
      "3      1\n",
      "4      1\n",
      "      ..\n",
      "968    3\n",
      "969    1\n",
      "970    3\n",
      "971    2\n",
      "972    1\n",
      "Name: Experience_Level, Length: 973, dtype: category\n",
      "Categories (3, int64): [1, 2, 3]\n"
     ]
    }
   ],
   "source": [
    "print(gym['Experience_Level'])"
   ]
  },
  {
   "cell_type": "code",
   "execution_count": 51,
   "id": "e9e63b77-e42c-44e8-a084-1f577f71bd67",
   "metadata": {},
   "outputs": [],
   "source": [
    "# # Attention: le chemin ci-dessous doit être adapté au contexte\n",
    "# DATADIR_UCI = './UCI HAR Dataset'\n",
    "# # Liste des noms des fichiers afin d'automatiser la lecture.\n",
    "# SIGNALS = [ \"body_acc_x\", \"body_acc_y\", \"body_acc_z\", \"body_gyro_x\", \"body_gyro_y\", \"body_gyro_z\", \"total_acc_x\", \"total_acc_y\", \"total_acc_z\"]\n",
    "\n",
    "# # Fonctions permettant de lire la séquence des fichiers avant de restructurer les données \n",
    "# # dans le fortmat recherché.\n",
    "# def my_read_csv(filename):\n",
    "#     return pd.read_csv(filename, delim_whitespace=True, header=None)\n",
    "\n",
    "# def load_signal(data_dir, subset, signal):\n",
    "#     filename = data_dir+'/'+subset+'/Inertial Signals/'+signal+'_'+subset+'.txt'\n",
    "#     x = my_read_csv(filename).values\n",
    "#     return x \n",
    "\n",
    "# def load_signals(data_dir, subset, flatten = False):\n",
    "#     signals_data = []\n",
    "#     for signal in SIGNALS:\n",
    "#         signals_data.append(load_signal(data_dir, subset, signal)) \n",
    "#     if flatten :\n",
    "#         X = np.hstack(signals_data)\n",
    "#     else:\n",
    "#         X = np.transpose(signals_data, (1, 2, 0))    \n",
    "#     return X \n",
    "\n",
    "# def load_y(data_dir, subset, dummies = False):\n",
    "#     filename = data_dir+'/'+subset+'/y_'+subset+'.txt'\n",
    "#     y = my_read_csv(filename)[0]\n",
    "#     if dummies:\n",
    "#         Y = pd.get_dummies(y).values\n",
    "#     else:\n",
    "#         Y = y.values\n",
    "#     return Y "
   ]
  },
  {
   "cell_type": "markdown",
   "id": "b8a3165a-df68-45c0-8535-ffd4702dbe37",
   "metadata": {},
   "source": [
    "changer dictionnaire activités et signals"
   ]
  },
  {
   "cell_type": "code",
   "execution_count": 52,
   "id": "05a0104f-0de0-41bd-8e28-8683b14a95ec",
   "metadata": {},
   "outputs": [],
   "source": [
    "# Liste des couleurs\n",
    "CMAP = plt.get_cmap(\"Accent\")\n",
    "# Liste des types de signaux\n",
    "SIGNALS = [\"LWeight\", \"Height (m)\", \"Max_BPM\", \"Avg_BPM\", \"Resting_BPM\", \"Session_Duration (hours)\",\n",
    "                             \"Water_Intake (liters)\", \"SFat_Percentage\", \"Workout_Frequency (days/week)\", \"Calories_Burned\"]\n",
    " \n",
    "# tableau des niveaux d'expérience (contexte supervisé)\n",
    "EXP_LEVEL_TAB = [1, 2, 3] #[1, 2, 3]\n",
    "labels=[\"niveau 1\",\"niveau 2\",\"niveau 3\"] #labels = ACTIVITY_DIC.values()\n",
    "\n",
    "# Fonction pour le tracé d'un signal\n",
    "# def plot_one_axe(X, fig, ax, sample_to_plot, cmap):\n",
    "#     for act,Xgb in X.groupby(\"Activity\"):\n",
    "#         Xgb_first_values = Xgb.values[:sample_to_plot,:-1]\n",
    "#         x = Xgb_first_values[0]\n",
    "#         ax.plot(x, linewidth=1, color=cmap(act-1), label = label_dic[act])\n",
    "#         for x in Xgb_first_values[1:]:\n",
    "#             ax.plot(x, linewidth=1, color=cmap(act-1))\n",
    "\n",
    "# Fonction pour le tracé d'un signal en fonction du niveau d'expérience\n",
    "def plot_one_axe(X, fig, ax, sample_to_plot, cmap):\n",
    "    for exp_level, Xgb in X.groupby(\"Experience_Level\"):\n",
    "        Xgb_first_values = Xgb.values[:sample_to_plot, :-1]\n",
    "        x = Xgb_first_values[0]\n",
    "        ax.plot(x, linewidth=1, color=cmap(exp_level-1), label=f\"Experience Level {exp_level}\")\n",
    "        for x in Xgb_first_values[1:]:\n",
    "            ax.plot(x, linewidth=1, color=cmap(exp_level-1))\n",
    "\n",
    "# def plot_one_axe_shuffle(X, fig, ax, sample_to_plot, cmap):\n",
    "#     plot_data = []\n",
    "#     for act,Xgb in X.groupby(\"Activity\"):\n",
    "#         Xgb_first_values = Xgb.values[:sample_to_plot,:-1]\n",
    "#         x = Xgb_first_values[0]\n",
    "#         ax.plot(x, linewidth=1, color=cmap(act-1), label = label_dic[act])\n",
    "#         for x in Xgb_first_values[1:]:\n",
    "#             plot_data.append([x,cmap(act-1)])\n",
    "#     random.shuffle(plot_data)\n",
    "#     for x,color in plot_data:\n",
    "#         ax.plot(x, linewidth=1, color=color)\n",
    "\n",
    "def plot_one_axe_shuffle(X, fig, ax, sample_to_plot, cmap):\n",
    "    plot_data = []\n",
    "    for exp_level,Xgb in X.groupby(\"Experience_Level\"):\n",
    "        Xgb_first_values = Xgb.values[:sample_to_plot,:-1]\n",
    "        x = Xgb_first_values[0]\n",
    "        ax.plot(x, linewidth=1, color=cmap(exp_level-1), label = f\"Experience Level {exp_level}\")\n",
    "        for x in Xgb_first_values[1:]:\n",
    "            plot_data.append([x,cmap(exp_level-1)])\n",
    "    random.shuffle(plot_data)\n",
    "    for x,color in plot_data:\n",
    "        ax.plot(x, linewidth=1, color=color)"
   ]
  },
  {
   "cell_type": "markdown",
   "id": "d7f23a9b-0479-49b6-9a27-d2f98950492f",
   "metadata": {},
   "source": [
    "Verification des dimensions "
   ]
  },
  {
   "cell_type": "markdown",
   "id": "93deb520-89ce-4bdd-a8ed-e01b8013561d",
   "metadata": {},
   "source": [
    "### Création des différents formats de données "
   ]
  },
  {
   "cell_type": "code",
   "execution_count": 53,
   "id": "4de50f22-060f-43b6-80fd-df42578396a9",
   "metadata": {},
   "outputs": [],
   "source": [
    "\n",
    "# #Multidimensional Data\n",
    "# X_train, X_test = load_signals(DATADIR_UCI, 'train'), load_signals(DATADIR_UCI, 'test')\n",
    "# # Flattened Data\n",
    "# X_train_flatten, X_test_flatten = load_signals(DATADIR_UCI, 'train', flatten=True), load_signals(DATADIR_UCI, 'test', flatten=True)\n",
    "\n",
    "# # Label Y\n",
    "# Y_train_label, Y_test_label = load_y(DATADIR_UCI, 'train', dummies = False), load_y(DATADIR_UCI, 'test', dummies = False)\n",
    "# #Dummies Y (For Keras)\n",
    "# Y_train_dummies, Y_test_dummies = load_y(DATADIR_UCI, 'train', dummies = True), load_y(DATADIR_UCI, 'test', dummies = True)\n",
    "\n",
    "N_train = X_train_exp_level.shape[0]\n",
    "N_test = X_test_exp_level.shape[0]"
   ]
  },
  {
   "cell_type": "code",
   "execution_count": 56,
   "id": "0dac5998-bec6-456a-a22e-30f375635cd7",
   "metadata": {},
   "outputs": [
    {
     "name": "stdout",
     "output_type": "stream",
     "text": [
      "Dimension\n",
      "Données unidimensionelles, : (778, 13)\n",
      "Données Normalisées, : (778, 13)\n",
      "Vecteur réponse (scikit-learn) : (778,)\n"
     ]
    }
   ],
   "source": [
    "print(\"Dimension\")\n",
    "print(\"Données unidimensionelles, : \" + str(X_train_exp_level.shape))\n",
    "print(\"Données Normalisées, : \" + str(X_train_exp_level_scale.shape))\n",
    "print(\"Vecteur réponse (scikit-learn) : \" + str(y_train_exp_level.shape))\n",
    "#print(\"Matrice réponse(Keras) : \" + str(y_train_exp_level.shape))"
   ]
  },
  {
   "cell_type": "code",
   "execution_count": null,
   "id": "478b4bde",
   "metadata": {},
   "outputs": [],
   "source": []
  },
  {
   "cell_type": "markdown",
   "id": "1e1ebe66",
   "metadata": {},
   "source": [
    "# Regression logistique "
   ]
  },
  {
   "cell_type": "markdown",
   "id": "ce3206d2",
   "metadata": {},
   "source": [
    "####  Principe\n",
    "Une méthode statistique ancienne mais finalement efficace sur ces données. La régression logistique est adaptée à la prévision d'une variable binaire. Dans le cas multiclasse, la fonction logistique de la librairie `Scikit-learn` estime *par défaut* **un modèle par classe**: une classe contre les autres. \n",
    "\n",
    "La probabilité d'appartenance d'un individu à une classe est modélisée à l'aide d'une combinaison linéaire des variables explicatives. Pour transformer une combinaison linéaire à valeur dans $R$ en une probabilité à valeurs dans l'intervalle $[0, 1]$, une fonction de forme sigmoïdale est appliquée.  Ceci donne: $$P(y_i=1)=\\frac{e^{Xb}}{1+e^{Xb}}$$ ou, c'est équivalent, une décomposition linéaire du *logit* ou *log odd ratio* de  $P(y_i=1)$:  $$\\log\\frac{P(y_i=1)}{1-P(y_i=1)}=Xb.$$"
   ]
  },
  {
   "cell_type": "markdown",
   "id": "22997a71",
   "metadata": {},
   "source": [
    "### Estimation sans optimisation "
   ]
  },
  {
   "cell_type": "code",
   "execution_count": null,
   "id": "b566a934",
   "metadata": {},
   "outputs": [
    {
     "name": "stdout",
     "output_type": "stream",
     "text": [
      "     Age   LWeight  Height (m)  Max_BPM  Avg_BPM  Resting_BPM  \\\n",
      "718   51  4.756173        1.67      189      139           55   \n",
      "811   27  4.503137        1.87      169      153           62   \n",
      "366   42  4.348987        1.97      165      157           65   \n",
      "737   34  4.756173        1.81      181      167           67   \n",
      "813   34  4.094345        1.62      178      150           56   \n",
      "..   ...       ...         ...      ...      ...          ...   \n",
      "204   23  4.440296        1.99      179      130           71   \n",
      "53    21  4.581902        1.72      161      151           62   \n",
      "294   44  4.503137        1.99      192      135           58   \n",
      "723   51  3.918005        1.61      191      129           55   \n",
      "815   39  4.855929        1.82      180      161           70   \n",
      "\n",
      "     Session_Duration (hours)  Calories_Burned  SFat_Percentage  \\\n",
      "718                      1.38            950.0            -18.4   \n",
      "811                      1.62           1363.0             -6.7   \n",
      "366                      1.14            886.0            -16.9   \n",
      "737                      1.36           1249.0            -18.5   \n",
      "813                      1.13            847.0            -24.9   \n",
      "..                        ...              ...              ...   \n",
      "204                      1.79           1280.0             -5.0   \n",
      "53                       1.26           1046.0            -19.0   \n",
      "294                      1.40            936.0            -20.3   \n",
      "723                      1.36            868.0            -22.3   \n",
      "815                      1.26           1116.0            -23.8   \n",
      "\n",
      "     Water_Intake (liters)  Gender_Male  Workout_Type_HIIT  \\\n",
      "718                    2.5         True              False   \n",
      "811                    3.5         True              False   \n",
      "366                    2.6         True               True   \n",
      "737                    2.2         True              False   \n",
      "813                    2.4        False              False   \n",
      "..                     ...          ...                ...   \n",
      "204                    3.5         True              False   \n",
      "53                     2.8         True              False   \n",
      "294                    2.0         True               True   \n",
      "723                    2.9         True              False   \n",
      "815                    3.0         True              False   \n",
      "\n",
      "     Workout_Type_Strength  Workout_Type_Yoga  \\\n",
      "718                  False               True   \n",
      "811                   True              False   \n",
      "366                  False              False   \n",
      "737                  False               True   \n",
      "813                  False              False   \n",
      "..                     ...                ...   \n",
      "204                  False              False   \n",
      "53                    True              False   \n",
      "294                  False              False   \n",
      "723                  False              False   \n",
      "815                   True              False   \n",
      "\n",
      "     Workout_Frequency (days/week)_3  Workout_Frequency (days/week)_4  \\\n",
      "718                             True                            False   \n",
      "811                            False                            False   \n",
      "366                             True                            False   \n",
      "737                            False                            False   \n",
      "813                            False                             True   \n",
      "..                               ...                              ...   \n",
      "204                            False                             True   \n",
      "53                              True                            False   \n",
      "294                            False                             True   \n",
      "723                            False                            False   \n",
      "815                             True                            False   \n",
      "\n",
      "     Workout_Frequency (days/week)_5  \n",
      "718                            False  \n",
      "811                             True  \n",
      "366                            False  \n",
      "737                            False  \n",
      "813                            False  \n",
      "..                               ...  \n",
      "204                            False  \n",
      "53                             False  \n",
      "294                            False  \n",
      "723                            False  \n",
      "815                            False  \n",
      "\n",
      "[778 rows x 17 columns]\n",
      "(778, 17)\n",
      "(778, 13)\n"
     ]
    }
   ],
   "source": [
    "X_train_exp_level_dummies = pd.get_dummies(X_train_exp_level, drop_first=True)\n",
    "X_test_exp_level_dummies = pd.get_dummies(X_test_exp_level, drop_first=True)\n",
    "\n",
    "print(X_train_exp_level_dummies)\n",
    "print(X_train_exp_level_dummies.shape)\n",
    "print(X_train_exp_level.shape)"
   ]
  },
  {
   "cell_type": "code",
   "execution_count": null,
   "id": "0bc069b9",
   "metadata": {},
   "outputs": [
    {
     "name": "stdout",
     "output_type": "stream",
     "text": [
      "Score : 0.902564, time running : 0 secondes\n",
      "Score : 0.789744, time running : 0 secondes\n",
      "Score : 0.733333, time running : 0 secondes\n",
      "Score : 0.748718, time running : 0 secondes\n"
     ]
    },
    {
     "name": "stderr",
     "output_type": "stream",
     "text": [
      "c:\\Users\\LiLi\\anaconda3\\Lib\\site-packages\\sklearn\\linear_model\\_logistic.py:460: ConvergenceWarning: lbfgs failed to converge (status=1):\n",
      "STOP: TOTAL NO. of ITERATIONS REACHED LIMIT.\n",
      "\n",
      "Increase the number of iterations (max_iter) or scale the data as shown in:\n",
      "    https://scikit-learn.org/stable/modules/preprocessing.html\n",
      "Please also refer to the documentation for alternative solver options:\n",
      "    https://scikit-learn.org/stable/modules/linear_model.html#logistic-regression\n",
      "  n_iter_i = _check_optimize_result(\n",
      "c:\\Users\\LiLi\\anaconda3\\Lib\\site-packages\\sklearn\\linear_model\\_sag.py:350: ConvergenceWarning: The max_iter was reached which means the coef_ did not converge\n",
      "  warnings.warn(\n",
      "c:\\Users\\LiLi\\anaconda3\\Lib\\site-packages\\sklearn\\linear_model\\_sag.py:350: ConvergenceWarning: The max_iter was reached which means the coef_ did not converge\n",
      "  warnings.warn(\n"
     ]
    },
    {
     "name": "stdout",
     "output_type": "stream",
     "text": [
      "Score : 0.897436, time running : 0 secondes\n"
     ]
    },
    {
     "name": "stderr",
     "output_type": "stream",
     "text": [
      "c:\\Users\\LiLi\\anaconda3\\Lib\\site-packages\\sklearn\\utils\\optimize.py:211: ConvergenceWarning: newton-cg failed to converge. Increase the number of iterations.\n",
      "  warnings.warn(\n"
     ]
    }
   ],
   "source": [
    "from sklearn.linear_model import LogisticRegression\n",
    "ts = time.time()\n",
    "for solver in ['liblinear','lbfgs', 'saga', 'sag', 'newton-cg']:\n",
    "    method = LogisticRegression(solver=solver ,multi_class='auto')  #lbfgs, saga, sag, newton-cg\n",
    "    method.fit(X_train_exp_level_dummies,y_train_exp_level)\n",
    "    score = method.score(X_test_exp_level_dummies, y_test_exp_level)\n",
    "    ypred = method.predict(X_test_exp_level_dummies)\n",
    "    te = time.time()\n",
    "\n",
    "    from sklearn.metrics import confusion_matrix, accuracy_score\n",
    "    print(\"Score : %f, time running : %d secondes\" %(score, te-ts))\n",
    "    pd.DataFrame(confusion_matrix(y_test_exp_level, ypred), index = labels, columns=labels)"
   ]
  },
  {
   "cell_type": "code",
   "execution_count": null,
   "id": "2971779f",
   "metadata": {},
   "outputs": [],
   "source": [
    "from sklearn.linear_model import LogisticRegression\n",
    "ts = time.time()\n",
    "method = LogisticRegression(solver='liblinear' ,multi_class='auto')  #lbfgs, saga, sag, newton-cg\n",
    "method.fit(X_train_exp_level_dummies,y_train_exp_level)\n",
    "score = method.score(X_test_exp_level_dummies, y_test_exp_level)\n",
    "ypred = method.predict(X_test_exp_level_dummies)\n",
    "te = time.time()\n"
   ]
  },
  {
   "cell_type": "markdown",
   "id": "ea6c26ee",
   "metadata": {},
   "source": [
    "Une fois le modèle estimé, l'erreur de prévision est évaluée, sans biais optimiste, sur un autre échantillon, dit échantillon test, qui n'a pas participé à l'apprentissage du modèle."
   ]
  },
  {
   "cell_type": "code",
   "execution_count": null,
   "id": "f24c2ce3",
   "metadata": {},
   "outputs": [
    {
     "name": "stdout",
     "output_type": "stream",
     "text": [
      "Score : 0.902564, time running : 0 secondes\n"
     ]
    },
    {
     "data": {
      "text/html": [
       "<div>\n",
       "<style scoped>\n",
       "    .dataframe tbody tr th:only-of-type {\n",
       "        vertical-align: middle;\n",
       "    }\n",
       "\n",
       "    .dataframe tbody tr th {\n",
       "        vertical-align: top;\n",
       "    }\n",
       "\n",
       "    .dataframe thead th {\n",
       "        text-align: right;\n",
       "    }\n",
       "</style>\n",
       "<table border=\"1\" class=\"dataframe\">\n",
       "  <thead>\n",
       "    <tr style=\"text-align: right;\">\n",
       "      <th></th>\n",
       "      <th>niveau 1</th>\n",
       "      <th>niveau 2</th>\n",
       "      <th>niveau 3</th>\n",
       "    </tr>\n",
       "  </thead>\n",
       "  <tbody>\n",
       "    <tr>\n",
       "      <th>niveau 1</th>\n",
       "      <td>70</td>\n",
       "      <td>8</td>\n",
       "      <td>0</td>\n",
       "    </tr>\n",
       "    <tr>\n",
       "      <th>niveau 2</th>\n",
       "      <td>11</td>\n",
       "      <td>68</td>\n",
       "      <td>0</td>\n",
       "    </tr>\n",
       "    <tr>\n",
       "      <th>niveau 3</th>\n",
       "      <td>0</td>\n",
       "      <td>0</td>\n",
       "      <td>38</td>\n",
       "    </tr>\n",
       "  </tbody>\n",
       "</table>\n",
       "</div>"
      ],
      "text/plain": [
       "          niveau 1  niveau 2  niveau 3\n",
       "niveau 1        70         8         0\n",
       "niveau 2        11        68         0\n",
       "niveau 3         0         0        38"
      ]
     },
     "execution_count": 17,
     "metadata": {},
     "output_type": "execute_result"
    }
   ],
   "source": [
    "from sklearn.metrics import confusion_matrix, accuracy_score\n",
    "print(\"Score : %f, time running : %d secondes\" %(score, te-ts))\n",
    "pd.DataFrame(confusion_matrix(y_test_exp_level, ypred), index = labels, columns=labels)"
   ]
  },
  {
   "cell_type": "markdown",
   "id": "7b07cac2",
   "metadata": {},
   "source": [
    "Interprétation: les classes \"niveau 1\" et \"niveau 2\", qui correspondent au niveaux d'experiences faibles et moyens sont difficcile à discriminer. Les resultats sont cohérent avec l'approche exploratoire: les niveau d'expérience 1 et 2 sont \"proches\", difficiles à discriminer. \n",
    "Les autres options de solver ne convergent pas.  "
   ]
  },
  {
   "cell_type": "markdown",
   "id": "f45f3c1d",
   "metadata": {},
   "source": [
    "### Optimisation du modèle par pénalisation Lasso"
   ]
  },
  {
   "cell_type": "code",
   "execution_count": null,
   "id": "3adc754d",
   "metadata": {},
   "outputs": [
    {
     "name": "stdout",
     "output_type": "stream",
     "text": [
      "Temps : 13 secondes\n"
     ]
    }
   ],
   "source": [
    "# Optimisation du paramètre de pénalisation\n",
    "# grille de valeurs\n",
    "from sklearn.model_selection import GridSearchCV\n",
    "ts = time.time()\n",
    "param=[{\"C\":[0.5,1,5,10,12,15,30]}]\n",
    "logit = GridSearchCV(LogisticRegression(penalty=\"l1\",solver='liblinear', \n",
    "                                        multi_class='auto'), param,cv=10,n_jobs=-1)\n",
    "logitOpt=logit.fit(X_train_exp_level_dummies, y_train_exp_level)  \n",
    "# paramètre optimal\n",
    "logitOpt.best_params_[\"C\"]\n",
    "te = time.time()\n",
    "print(\"Temps : %d secondes\" %(te-ts))"
   ]
  },
  {
   "cell_type": "code",
   "execution_count": null,
   "id": "b4a78894",
   "metadata": {},
   "outputs": [
    {
     "name": "stdout",
     "output_type": "stream",
     "text": [
      "Meilleur score = 0.855961, Meilleur paramètre = {'C': 1}\n"
     ]
    }
   ],
   "source": [
    "print(\"Meilleur score = %f, Meilleur paramètre = %s\" % (logitOpt.best_score_,logitOpt.best_params_)) #score apprentisage "
   ]
  },
  {
   "cell_type": "markdown",
   "id": "b7177d0d",
   "metadata": {},
   "source": [
    "les meilleur pararmètre est C=1 ce qui correspond à la valeur par default dans la fonction, on retrouve donc les memes résultats: la matrice de confusion et l'erreure de prévision sont les memes que pour la regression logistique non optimisée.  "
   ]
  },
  {
   "cell_type": "code",
   "execution_count": null,
   "id": "9504a43c",
   "metadata": {},
   "outputs": [
    {
     "data": {
      "text/plain": [
       "0.9025641025641026"
      ]
     },
     "execution_count": 20,
     "metadata": {},
     "output_type": "execute_result"
    }
   ],
   "source": [
    "yChap = logitOpt.predict(X_test_exp_level_dummies)\n",
    "# matrice de confusion\n",
    "logitOpt.score(X_test_exp_level_dummies, y_test_exp_level)  #score généralisation= prédiction "
   ]
  },
  {
   "cell_type": "code",
   "execution_count": null,
   "id": "bf963d41",
   "metadata": {},
   "outputs": [
    {
     "data": {
      "text/html": [
       "<div>\n",
       "<style scoped>\n",
       "    .dataframe tbody tr th:only-of-type {\n",
       "        vertical-align: middle;\n",
       "    }\n",
       "\n",
       "    .dataframe tbody tr th {\n",
       "        vertical-align: top;\n",
       "    }\n",
       "\n",
       "    .dataframe thead th {\n",
       "        text-align: right;\n",
       "    }\n",
       "</style>\n",
       "<table border=\"1\" class=\"dataframe\">\n",
       "  <thead>\n",
       "    <tr style=\"text-align: right;\">\n",
       "      <th></th>\n",
       "      <th>niveau 1</th>\n",
       "      <th>niveau 2</th>\n",
       "      <th>niveau 3</th>\n",
       "    </tr>\n",
       "  </thead>\n",
       "  <tbody>\n",
       "    <tr>\n",
       "      <th>niveau 1</th>\n",
       "      <td>70</td>\n",
       "      <td>8</td>\n",
       "      <td>0</td>\n",
       "    </tr>\n",
       "    <tr>\n",
       "      <th>niveau 2</th>\n",
       "      <td>11</td>\n",
       "      <td>68</td>\n",
       "      <td>0</td>\n",
       "    </tr>\n",
       "    <tr>\n",
       "      <th>niveau 3</th>\n",
       "      <td>0</td>\n",
       "      <td>0</td>\n",
       "      <td>38</td>\n",
       "    </tr>\n",
       "  </tbody>\n",
       "</table>\n",
       "</div>"
      ],
      "text/plain": [
       "          niveau 1  niveau 2  niveau 3\n",
       "niveau 1        70         8         0\n",
       "niveau 2        11        68         0\n",
       "niveau 3         0         0        38"
      ]
     },
     "execution_count": 21,
     "metadata": {},
     "output_type": "execute_result"
    }
   ],
   "source": [
    "pd.DataFrame(confusion_matrix(y_test_exp_level, yChap), index = labels, columns=labels)"
   ]
  },
  {
   "cell_type": "markdown",
   "id": "5326f308",
   "metadata": {},
   "source": [
    "=> voir quels variables selectionnées par methode Lasso (code ozone: recup coef et ordonnés)"
   ]
  },
  {
   "cell_type": "markdown",
   "id": "fe60f1a0",
   "metadata": {},
   "source": [
    "L'interprétation nécessite de connaître les valeurs des coefficients du modèle alors que l'objet `regLassOpt` issu de `GridSearchCV` ne retient pas les paramètres estimés. Il faut donc le ré-estimer avec la valeur optimale du paramètre de pénalisation si l'on souhaite afficher ces coefficients."
   ]
  },
  {
   "cell_type": "code",
   "execution_count": 59,
   "id": "77af171d",
   "metadata": {},
   "outputs": [
    {
     "data": {
      "text/plain": [
       "array([[-4.40586752e-03,  3.26823780e-01,  1.95183196e-01,\n",
       "         3.49716056e-03,  3.37900216e-02, -6.04850007e-03,\n",
       "         0.00000000e+00, -5.77421234e-03, -5.93773299e-02,\n",
       "         2.77433088e-01,  0.00000000e+00,  4.90968175e-03,\n",
       "         6.03714429e-04, -1.21237388e-01, -3.81761206e+00,\n",
       "        -8.87007178e+00, -5.33964414e+00],\n",
       "       [ 3.00869739e-03, -5.17020777e-01, -1.13597593e+00,\n",
       "        -9.65114221e-03, -1.40244120e-02, -1.42851587e-02,\n",
       "        -4.10901072e-04,  2.12158892e-03, -2.82178353e-01,\n",
       "        -1.37267126e+00,  2.93435765e+00,  0.00000000e+00,\n",
       "        -1.69182033e-01,  4.82154276e-02,  4.29238786e+00,\n",
       "         6.75358155e+00,  0.00000000e+00],\n",
       "       [ 2.06608436e-02,  0.00000000e+00,  0.00000000e+00,\n",
       "         1.10703027e-01, -1.52661136e-01,  5.67626211e-02,\n",
       "         0.00000000e+00,  2.35403045e-02,  1.99516601e+00,\n",
       "         0.00000000e+00, -1.43097216e+00,  0.00000000e+00,\n",
       "         0.00000000e+00,  0.00000000e+00,  0.00000000e+00,\n",
       "         0.00000000e+00,  0.00000000e+00]])"
      ]
     },
     "execution_count": 59,
     "metadata": {},
     "output_type": "execute_result"
    }
   ],
   "source": [
    "\n",
    "\n",
    "logit=LogisticRegression(penalty=\"l1\",solver='liblinear', \n",
    "                                        multi_class='auto', C=logitOpt.best_params_['C'])\n",
    "model_lasso=logit.fit(X_train_exp_level_dummies, y_train_exp_level)\n",
    "model_lasso.coef_"
   ]
  },
  {
   "cell_type": "code",
   "execution_count": 62,
   "id": "49cc1eca",
   "metadata": {},
   "outputs": [
    {
     "name": "stdout",
     "output_type": "stream",
     "text": [
      "Lasso conserve 17 variables et en supprime 0\n"
     ]
    }
   ],
   "source": [
    "coef_df = pd.DataFrame(model_lasso.coef_, columns=X_train_exp_level_dummies.columns)\n",
    "\n",
    "# Compter les variables utilisées au moins une fois (au moins un coef ≠ 0 sur les 3 classes)\n",
    "coef_used = (coef_df != 0).any(axis=0)\n",
    "\n",
    "print(\"Lasso conserve\", coef_used.sum(), \"variables et en supprime\", len(coef_used) - coef_used.sum())"
   ]
  },
  {
   "cell_type": "code",
   "execution_count": 64,
   "id": "cee8e082",
   "metadata": {},
   "outputs": [
    {
     "name": "stdout",
     "output_type": "stream",
     "text": [
      "Variables sélectionnées et triées (moyenne des coefficients) :\n",
      "SFat_Percentage                    0.551203\n",
      "Gender_Male                        0.501128\n",
      "Workout_Frequency (days/week)_3    0.158259\n",
      "Max_BPM                            0.034850\n",
      "Resting_BPM                        0.012143\n",
      "Calories_Burned                    0.006629\n",
      "Age                                0.006421\n",
      "Workout_Type_HIIT                  0.001637\n",
      "Session_Duration (hours)          -0.000137\n",
      "Workout_Type_Yoga                 -0.024341\n",
      "Avg_BPM                           -0.044299\n",
      "Workout_Type_Strength             -0.056193\n",
      "LWeight                           -0.063399\n",
      "Height (m)                        -0.313598\n",
      "Water_Intake (liters)             -0.365079\n",
      "Workout_Frequency (days/week)_4   -0.705497\n",
      "Workout_Frequency (days/week)_5   -1.779881\n",
      "dtype: float64\n"
     ]
    },
    {
     "data": {
      "image/png": "[encoded data removed]",
      "text/plain": [
       "<Figure size 1000x600 with 1 Axes>"
      ]
     },
     "metadata": {},
     "output_type": "display_data"
    }
   ],
   "source": [
    "# Afficher les coefficients non nuls (moyennés ou par classe, selon ce que tu veux)\n",
    "selected_coefs = coef_df.loc[:, coef_used]\n",
    "\n",
    "# Option 1 : Moyenne des coefficients non nuls pour tri (approche simple)\n",
    "mean_coefs = selected_coefs.mean(axis=0).sort_values(ascending=False)\n",
    "print(\"Variables sélectionnées et triées (moyenne des coefficients) :\")\n",
    "print(mean_coefs)\n",
    "\n",
    "# Optionnel : visualisation\n",
    "import matplotlib.pyplot as plt\n",
    "mean_coefs.plot(kind='barh', figsize=(10,6))\n",
    "plt.title(\"Variables sélectionnées par Lasso (moyenne des coefs sur les classes)\")\n",
    "plt.xlabel(\"Coefficient moyen\")\n",
    "plt.tight_layout()\n",
    "plt.show()"
   ]
  },
  {
   "cell_type": "code",
   "execution_count": 61,
   "id": "9246f4ba",
   "metadata": {},
   "outputs": [
    {
     "ename": "ValueError",
     "evalue": "Length of values (51) does not match length of index (17)",
     "output_type": "error",
     "traceback": [
      "\u001b[1;31m---------------------------------------------------------------------------\u001b[0m",
      "\u001b[1;31mValueError\u001b[0m                                Traceback (most recent call last)",
      "Cell \u001b[1;32mIn[61], line 1\u001b[0m\n\u001b[1;32m----> 1\u001b[0m coef \u001b[38;5;241m=\u001b[39m pd\u001b[38;5;241m.\u001b[39mSeries(model_lasso\u001b[38;5;241m.\u001b[39mcoef_\u001b[38;5;241m.\u001b[39mravel(), index\u001b[38;5;241m=\u001b[39mX_train_exp_level_dummies\u001b[38;5;241m.\u001b[39mcolumns)\n\u001b[0;32m      3\u001b[0m \u001b[38;5;28mprint\u001b[39m(\u001b[38;5;124m\"\u001b[39m\u001b[38;5;124mLasso conserve \u001b[39m\u001b[38;5;124m\"\u001b[39m \u001b[38;5;241m+\u001b[39m \u001b[38;5;28mstr\u001b[39m(\u001b[38;5;28msum\u001b[39m(coef \u001b[38;5;241m!=\u001b[39m \u001b[38;5;241m0\u001b[39m)) \u001b[38;5;241m+\u001b[39m \n\u001b[0;32m      4\u001b[0m       \u001b[38;5;124m\"\u001b[39m\u001b[38;5;124m variables et en supprime \u001b[39m\u001b[38;5;124m\"\u001b[39m \u001b[38;5;241m+\u001b[39m  \u001b[38;5;28mstr\u001b[39m(\u001b[38;5;28msum\u001b[39m(coef \u001b[38;5;241m==\u001b[39m \u001b[38;5;241m0\u001b[39m)))\n",
      "File \u001b[1;32mc:\\Users\\LiLi\\anaconda3\\Lib\\site-packages\\pandas\\core\\series.py:500\u001b[0m, in \u001b[0;36mSeries.__init__\u001b[1;34m(self, data, index, dtype, name, copy, fastpath)\u001b[0m\n\u001b[0;32m    498\u001b[0m     index \u001b[38;5;241m=\u001b[39m default_index(\u001b[38;5;28mlen\u001b[39m(data))\n\u001b[0;32m    499\u001b[0m \u001b[38;5;28;01melif\u001b[39;00m is_list_like(data):\n\u001b[1;32m--> 500\u001b[0m     com\u001b[38;5;241m.\u001b[39mrequire_length_match(data, index)\n\u001b[0;32m    502\u001b[0m \u001b[38;5;66;03m# create/copy the manager\u001b[39;00m\n\u001b[0;32m    503\u001b[0m \u001b[38;5;28;01mif\u001b[39;00m \u001b[38;5;28misinstance\u001b[39m(data, (SingleBlockManager, SingleArrayManager)):\n",
      "File \u001b[1;32mc:\\Users\\LiLi\\anaconda3\\Lib\\site-packages\\pandas\\core\\common.py:576\u001b[0m, in \u001b[0;36mrequire_length_match\u001b[1;34m(data, index)\u001b[0m\n\u001b[0;32m    572\u001b[0m \u001b[38;5;250m\u001b[39m\u001b[38;5;124;03m\"\"\"\u001b[39;00m\n\u001b[0;32m    573\u001b[0m \u001b[38;5;124;03mCheck the length of data matches the length of the index.\u001b[39;00m\n\u001b[0;32m    574\u001b[0m \u001b[38;5;124;03m\"\"\"\u001b[39;00m\n\u001b[0;32m    575\u001b[0m \u001b[38;5;28;01mif\u001b[39;00m \u001b[38;5;28mlen\u001b[39m(data) \u001b[38;5;241m!=\u001b[39m \u001b[38;5;28mlen\u001b[39m(index):\n\u001b[1;32m--> 576\u001b[0m     \u001b[38;5;28;01mraise\u001b[39;00m \u001b[38;5;167;01mValueError\u001b[39;00m(\n\u001b[0;32m    577\u001b[0m         \u001b[38;5;124m\"\u001b[39m\u001b[38;5;124mLength of values \u001b[39m\u001b[38;5;124m\"\u001b[39m\n\u001b[0;32m    578\u001b[0m         \u001b[38;5;124mf\u001b[39m\u001b[38;5;124m\"\u001b[39m\u001b[38;5;124m(\u001b[39m\u001b[38;5;132;01m{\u001b[39;00m\u001b[38;5;28mlen\u001b[39m(data)\u001b[38;5;132;01m}\u001b[39;00m\u001b[38;5;124m) \u001b[39m\u001b[38;5;124m\"\u001b[39m\n\u001b[0;32m    579\u001b[0m         \u001b[38;5;124m\"\u001b[39m\u001b[38;5;124mdoes not match length of index \u001b[39m\u001b[38;5;124m\"\u001b[39m\n\u001b[0;32m    580\u001b[0m         \u001b[38;5;124mf\u001b[39m\u001b[38;5;124m\"\u001b[39m\u001b[38;5;124m(\u001b[39m\u001b[38;5;132;01m{\u001b[39;00m\u001b[38;5;28mlen\u001b[39m(index)\u001b[38;5;132;01m}\u001b[39;00m\u001b[38;5;124m)\u001b[39m\u001b[38;5;124m\"\u001b[39m\n\u001b[0;32m    581\u001b[0m     )\n",
      "\u001b[1;31mValueError\u001b[0m: Length of values (51) does not match length of index (17)"
     ]
    }
   ],
   "source": [
    "coef = pd.Series(model_lasso.coef_.ravel(), index=X_train_exp_level_dummies.columns)\n",
    "\n",
    "print(\"Lasso conserve \" + str(sum(coef != 0)) + \n",
    "      \" variables et en supprime \" +  str(sum(coef == 0)))"
   ]
  },
  {
   "cell_type": "code",
   "execution_count": null,
   "id": "f8908add",
   "metadata": {},
   "outputs": [],
   "source": [
    "coef = pd.Series(model_lasso.coef_, index = X_train_exp_level_dummies.columns)\n",
    "print(\"Lasso conserve \" + str(sum(coef != 0)) + \n",
    "      \" variables et en supprime \" +  str(sum(coef == 0)))"
   ]
  },
  {
   "cell_type": "markdown",
   "id": "af5addc1",
   "metadata": {},
   "source": [
    "### Analyse Discriminante linéaire  "
   ]
  },
  {
   "cell_type": "markdown",
   "id": "673784a3",
   "metadata": {},
   "source": []
  },
  {
   "cell_type": "code",
   "execution_count": null,
   "id": "121c2314",
   "metadata": {},
   "outputs": [
    {
     "data": {
      "text/plain": [
       "0.9076923076923077"
      ]
     },
     "execution_count": 22,
     "metadata": {},
     "output_type": "execute_result"
    }
   ],
   "source": [
    "from sklearn.discriminant_analysis import LinearDiscriminantAnalysis, QuadraticDiscriminantAnalysis\n",
    "\n",
    "ts=time.time()\n",
    "\n",
    "method=LinearDiscriminantAnalysis()\n",
    "method.fit(X_train_exp_level_dummies, y_train_exp_level)\n",
    "score = method.score(X_test_exp_level_dummies,y_test_exp_level)\n",
    "ypred = method.predict(X_test_exp_level_dummies)\n",
    "te=time.time()\n",
    "t_total = te-ts\n",
    "score "
   ]
  },
  {
   "cell_type": "code",
   "execution_count": null,
   "id": "21cb19a2",
   "metadata": {},
   "outputs": [
    {
     "name": "stdout",
     "output_type": "stream",
     "text": [
      "Score : 0.907692, time running : 0 secondes\n"
     ]
    },
    {
     "data": {
      "text/html": [
       "<div>\n",
       "<style scoped>\n",
       "    .dataframe tbody tr th:only-of-type {\n",
       "        vertical-align: middle;\n",
       "    }\n",
       "\n",
       "    .dataframe tbody tr th {\n",
       "        vertical-align: top;\n",
       "    }\n",
       "\n",
       "    .dataframe thead th {\n",
       "        text-align: right;\n",
       "    }\n",
       "</style>\n",
       "<table border=\"1\" class=\"dataframe\">\n",
       "  <thead>\n",
       "    <tr style=\"text-align: right;\">\n",
       "      <th></th>\n",
       "      <th>niveau 1</th>\n",
       "      <th>niveau 2</th>\n",
       "      <th>niveau 3</th>\n",
       "    </tr>\n",
       "  </thead>\n",
       "  <tbody>\n",
       "    <tr>\n",
       "      <th>niveau 1</th>\n",
       "      <td>70</td>\n",
       "      <td>8</td>\n",
       "      <td>0</td>\n",
       "    </tr>\n",
       "    <tr>\n",
       "      <th>niveau 2</th>\n",
       "      <td>10</td>\n",
       "      <td>69</td>\n",
       "      <td>0</td>\n",
       "    </tr>\n",
       "    <tr>\n",
       "      <th>niveau 3</th>\n",
       "      <td>0</td>\n",
       "      <td>0</td>\n",
       "      <td>38</td>\n",
       "    </tr>\n",
       "  </tbody>\n",
       "</table>\n",
       "</div>"
      ],
      "text/plain": [
       "          niveau 1  niveau 2  niveau 3\n",
       "niveau 1        70         8         0\n",
       "niveau 2        10        69         0\n",
       "niveau 3         0         0        38"
      ]
     },
     "execution_count": 23,
     "metadata": {},
     "output_type": "execute_result"
    }
   ],
   "source": [
    "print(\"Score : %f, time running : %d secondes\" %(score, t_total))\n",
    "pd.DataFrame(confusion_matrix(y_test_exp_level, ypred), index=labels, columns= labels)"
   ]
  },
  {
   "cell_type": "markdown",
   "id": "317774d5",
   "metadata": {},
   "source": [
    "Interprétation: erreur de généralisation 0.097 pas mal\n",
    "presque meme répartition qu'avec la regression logistique, 1 erreure de moins. On retrouve que les individus du niveau sont tjr \"faciles\" à iddentifier, alors que les niveau 1 et 2 sont plus souvent confondus entre eux. "
   ]
  },
  {
   "cell_type": "markdown",
   "id": "8ca0dd20",
   "metadata": {},
   "source": [
    "## K plus proches voisins \n",
    "\n",
    "Cas particulier d'analyse discriminante avec estimation locale des fonctions de densité conditionnelle . "
   ]
  },
  {
   "cell_type": "code",
   "execution_count": null,
   "id": "6eb4ed37",
   "metadata": {},
   "outputs": [
    {
     "name": "stderr",
     "output_type": "stream",
     "text": [
      "c:\\Users\\LiLi\\anaconda3\\Lib\\site-packages\\sklearn\\base.py:464: UserWarning: X does not have valid feature names, but KNeighborsClassifier was fitted with feature names\n",
      "  warnings.warn(\n",
      "c:\\Users\\LiLi\\anaconda3\\Lib\\site-packages\\sklearn\\base.py:464: UserWarning: X does not have valid feature names, but KNeighborsClassifier was fitted with feature names\n",
      "  warnings.warn(\n"
     ]
    }
   ],
   "source": [
    "from sklearn.neighbors import KNeighborsClassifier\n",
    "ts=time.time()\n",
    "method=KNeighborsClassifier(n_jobs=-1)\n",
    "method.fit(X_train_exp_level_dummies, y_train_exp_level)\n",
    "score = method.score(np.array(X_test_exp_level_dummies),y_test_exp_level)\n",
    "ypred = method.predict(np.array(X_test_exp_level_dummies))\n",
    "te=time.time()\n",
    "t_total = te-ts"
   ]
  },
  {
   "cell_type": "code",
   "execution_count": null,
   "id": "00073f80",
   "metadata": {},
   "outputs": [
    {
     "name": "stdout",
     "output_type": "stream",
     "text": [
      "Score : 0.717949, time running : 0 secondes\n"
     ]
    },
    {
     "data": {
      "text/html": [
       "<div>\n",
       "<style scoped>\n",
       "    .dataframe tbody tr th:only-of-type {\n",
       "        vertical-align: middle;\n",
       "    }\n",
       "\n",
       "    .dataframe tbody tr th {\n",
       "        vertical-align: top;\n",
       "    }\n",
       "\n",
       "    .dataframe thead th {\n",
       "        text-align: right;\n",
       "    }\n",
       "</style>\n",
       "<table border=\"1\" class=\"dataframe\">\n",
       "  <thead>\n",
       "    <tr style=\"text-align: right;\">\n",
       "      <th></th>\n",
       "      <th>niveau 1</th>\n",
       "      <th>niveau 2</th>\n",
       "      <th>niveau 3</th>\n",
       "    </tr>\n",
       "  </thead>\n",
       "  <tbody>\n",
       "    <tr>\n",
       "      <th>niveau 1</th>\n",
       "      <td>47</td>\n",
       "      <td>31</td>\n",
       "      <td>0</td>\n",
       "    </tr>\n",
       "    <tr>\n",
       "      <th>niveau 2</th>\n",
       "      <td>18</td>\n",
       "      <td>61</td>\n",
       "      <td>0</td>\n",
       "    </tr>\n",
       "    <tr>\n",
       "      <th>niveau 3</th>\n",
       "      <td>1</td>\n",
       "      <td>5</td>\n",
       "      <td>32</td>\n",
       "    </tr>\n",
       "  </tbody>\n",
       "</table>\n",
       "</div>"
      ],
      "text/plain": [
       "          niveau 1  niveau 2  niveau 3\n",
       "niveau 1        47        31         0\n",
       "niveau 2        18        61         0\n",
       "niveau 3         1         5        32"
      ]
     },
     "execution_count": 41,
     "metadata": {},
     "output_type": "execute_result"
    }
   ],
   "source": [
    "print(\"Score : %f, time running : %d secondes\" %(score, te-ts))\n",
    "pd.DataFrame(confusion_matrix(y_test_exp_level, ypred), index = labels, columns=labels)"
   ]
  },
  {
   "cell_type": "markdown",
   "id": "b0d448b9",
   "metadata": {},
   "source": [
    "Le score opbtenu est beaucoup moins bon qu'avec les methodes (blabla) utilisés précédement, cependant le temps d'execution est très rapide. Le nombre de voisin utilisés par défaut est 5, nous allons tenter d'optimiser ce paramètre. "
   ]
  },
  {
   "cell_type": "code",
   "execution_count": null,
   "id": "09839b6e",
   "metadata": {},
   "outputs": [
    {
     "name": "stdout",
     "output_type": "stream",
     "text": [
      "Meilleur nombre de voisins : 11\n",
      "Meilleure score en validation croisée : 0.6954878454878455\n"
     ]
    }
   ],
   "source": [
    "from sklearn.model_selection import GridSearchCV\n",
    "ts=time.time()\n",
    "\n",
    "param_grid = {'n_neighbors': list(range(1, 16))}  # Tester de 1 à 15 voisins\n",
    "\n",
    "method=KNeighborsClassifier(n_jobs=-1)\n",
    "kn= GridSearchCV(method, param_grid, cv=10, scoring='accuracy')# recherche par validation croisée\n",
    "knOpt=kn.fit(np.array(X_train_exp_level_dummies), y_train_exp_level)  # Assurez-vous que X_train_np est bien un np.array\n",
    "\n",
    "te=time.time()\n",
    "t_total=te-ts\n",
    "\n",
    "print(\"Meilleur nombre de voisins :\", knOpt.best_params_['n_neighbors']) #paramètre trouvé \n",
    "print(\"Meilleure score en validation croisée :\", knOpt.best_score_) #score généralisation "
   ]
  },
  {
   "cell_type": "code",
   "execution_count": null,
   "id": "3240c75d",
   "metadata": {},
   "outputs": [
    {
     "data": {
      "text/html": [
       "<div>\n",
       "<style scoped>\n",
       "    .dataframe tbody tr th:only-of-type {\n",
       "        vertical-align: middle;\n",
       "    }\n",
       "\n",
       "    .dataframe tbody tr th {\n",
       "        vertical-align: top;\n",
       "    }\n",
       "\n",
       "    .dataframe thead th {\n",
       "        text-align: right;\n",
       "    }\n",
       "</style>\n",
       "<table border=\"1\" class=\"dataframe\">\n",
       "  <thead>\n",
       "    <tr style=\"text-align: right;\">\n",
       "      <th></th>\n",
       "      <th>niveau 1</th>\n",
       "      <th>niveau 2</th>\n",
       "      <th>niveau 3</th>\n",
       "    </tr>\n",
       "  </thead>\n",
       "  <tbody>\n",
       "    <tr>\n",
       "      <th>niveau 1</th>\n",
       "      <td>47</td>\n",
       "      <td>28</td>\n",
       "      <td>3</td>\n",
       "    </tr>\n",
       "    <tr>\n",
       "      <th>niveau 2</th>\n",
       "      <td>12</td>\n",
       "      <td>64</td>\n",
       "      <td>3</td>\n",
       "    </tr>\n",
       "    <tr>\n",
       "      <th>niveau 3</th>\n",
       "      <td>0</td>\n",
       "      <td>7</td>\n",
       "      <td>31</td>\n",
       "    </tr>\n",
       "  </tbody>\n",
       "</table>\n",
       "</div>"
      ],
      "text/plain": [
       "          niveau 1  niveau 2  niveau 3\n",
       "niveau 1        47        28         3\n",
       "niveau 2        12        64         3\n",
       "niveau 3         0         7        31"
      ]
     },
     "execution_count": 37,
     "metadata": {},
     "output_type": "execute_result"
    }
   ],
   "source": [
    "yChap=knOpt.predict(np.array(X_test_exp_level_dummies))\n",
    "pd.DataFrame(confusion_matrix(y_test_exp_level, yChap), index = labels, columns=labels)"
   ]
  },
  {
   "cell_type": "markdown",
   "id": "d5cd9de0",
   "metadata": {},
   "source": [
    "## SVM lineaire \n",
    "\n",
    "le nombre de voisins considérés k optimal est 11, cependant on obtient une erreure d'apprentissage plus grande qu'avec k=5=> du à la validation croisée? \n",
    "Le temps de calcul est très long: 26s contre 0s, cette améloration n'est pas rentable. "
   ]
  },
  {
   "cell_type": "code",
   "execution_count": null,
   "id": "3dc2edcf",
   "metadata": {},
   "outputs": [],
   "source": [
    "from sklearn.svm import SVC\n",
    "ts = time.time()\n",
    "method = SVC(gamma='auto')\n",
    "method.fit(X_train_exp_level_dummies,y_train_exp_level)\n",
    "score = method.score(X_test_exp_level_dummies, y_test_exp_level)\n",
    "ypred = method.predict(X_test_exp_level_dummies)\n",
    "te = time.time()"
   ]
  },
  {
   "cell_type": "code",
   "execution_count": null,
   "id": "199f7362",
   "metadata": {},
   "outputs": [
    {
     "name": "stdout",
     "output_type": "stream",
     "text": [
      "Score : 0.405128, time running : 0 secondes\n"
     ]
    },
    {
     "data": {
      "text/html": [
       "<div>\n",
       "<style scoped>\n",
       "    .dataframe tbody tr th:only-of-type {\n",
       "        vertical-align: middle;\n",
       "    }\n",
       "\n",
       "    .dataframe tbody tr th {\n",
       "        vertical-align: top;\n",
       "    }\n",
       "\n",
       "    .dataframe thead th {\n",
       "        text-align: right;\n",
       "    }\n",
       "</style>\n",
       "<table border=\"1\" class=\"dataframe\">\n",
       "  <thead>\n",
       "    <tr style=\"text-align: right;\">\n",
       "      <th></th>\n",
       "      <th>niveau 1</th>\n",
       "      <th>niveau 2</th>\n",
       "      <th>niveau 3</th>\n",
       "    </tr>\n",
       "  </thead>\n",
       "  <tbody>\n",
       "    <tr>\n",
       "      <th>niveau 1</th>\n",
       "      <td>0</td>\n",
       "      <td>78</td>\n",
       "      <td>0</td>\n",
       "    </tr>\n",
       "    <tr>\n",
       "      <th>niveau 2</th>\n",
       "      <td>0</td>\n",
       "      <td>79</td>\n",
       "      <td>0</td>\n",
       "    </tr>\n",
       "    <tr>\n",
       "      <th>niveau 3</th>\n",
       "      <td>0</td>\n",
       "      <td>38</td>\n",
       "      <td>0</td>\n",
       "    </tr>\n",
       "  </tbody>\n",
       "</table>\n",
       "</div>"
      ],
      "text/plain": [
       "          niveau 1  niveau 2  niveau 3\n",
       "niveau 1         0        78         0\n",
       "niveau 2         0        79         0\n",
       "niveau 3         0        38         0"
      ]
     },
     "execution_count": 43,
     "metadata": {},
     "output_type": "execute_result"
    }
   ],
   "source": [
    "print(\"Score : %f, time running : %d secondes\" %(score, te-ts))\n",
    "pd.DataFrame(confusion_matrix(y_test_exp_level, ypred), index = labels, columns=labels)"
   ]
  },
  {
   "cell_type": "markdown",
   "id": "2c08f0b7",
   "metadata": {},
   "source": [
    "nul nul nul\n",
    "on essaie d'optimiser les paramètres C et gamma"
   ]
  },
  {
   "cell_type": "code",
   "execution_count": null,
   "id": "ec782e19",
   "metadata": {},
   "outputs": [
    {
     "data": {
      "text/plain": [
       "9.33992338180542"
      ]
     },
     "execution_count": 44,
     "metadata": {},
     "output_type": "execute_result"
    }
   ],
   "source": [
    "ts = time.time()\n",
    "param=[{\"C\":[4,5,6],\"gamma\":[.01,.02,.03]}]\n",
    "svm= GridSearchCV(SVC(),param,cv=10,n_jobs=-1)\n",
    "svmOpt=svm.fit(X_train_exp_level_dummies, y_train_exp_level)\n",
    "te = time.time()\n",
    "te-ts"
   ]
  },
  {
   "cell_type": "code",
   "execution_count": null,
   "id": "98d79dc5",
   "metadata": {},
   "outputs": [
    {
     "name": "stdout",
     "output_type": "stream",
     "text": [
      "Meilleur score = 0.521845, Meilleur paramètre = {'C': 4, 'gamma': 0.01}\n"
     ]
    }
   ],
   "source": [
    "# paramètre optimal\n",
    "print(\"Meilleur score = %f, Meilleur paramètre = %s\" % (svmOpt.best_score_,svmOpt.best_params_))"
   ]
  },
  {
   "cell_type": "code",
   "execution_count": null,
   "id": "4f7cdaf0",
   "metadata": {},
   "outputs": [
    {
     "name": "stderr",
     "output_type": "stream",
     "text": [
      "c:\\Users\\LiLi\\anaconda3\\Lib\\site-packages\\sklearn\\base.py:464: UserWarning: X does not have valid feature names, but SVC was fitted with feature names\n",
      "  warnings.warn(\n"
     ]
    },
    {
     "data": {
      "text/html": [
       "<div>\n",
       "<style scoped>\n",
       "    .dataframe tbody tr th:only-of-type {\n",
       "        vertical-align: middle;\n",
       "    }\n",
       "\n",
       "    .dataframe tbody tr th {\n",
       "        vertical-align: top;\n",
       "    }\n",
       "\n",
       "    .dataframe thead th {\n",
       "        text-align: right;\n",
       "    }\n",
       "</style>\n",
       "<table border=\"1\" class=\"dataframe\">\n",
       "  <thead>\n",
       "    <tr style=\"text-align: right;\">\n",
       "      <th></th>\n",
       "      <th>niveau 1</th>\n",
       "      <th>niveau 2</th>\n",
       "      <th>niveau 3</th>\n",
       "    </tr>\n",
       "  </thead>\n",
       "  <tbody>\n",
       "    <tr>\n",
       "      <th>niveau 1</th>\n",
       "      <td>44</td>\n",
       "      <td>34</td>\n",
       "      <td>0</td>\n",
       "    </tr>\n",
       "    <tr>\n",
       "      <th>niveau 2</th>\n",
       "      <td>25</td>\n",
       "      <td>54</td>\n",
       "      <td>0</td>\n",
       "    </tr>\n",
       "    <tr>\n",
       "      <th>niveau 3</th>\n",
       "      <td>3</td>\n",
       "      <td>33</td>\n",
       "      <td>2</td>\n",
       "    </tr>\n",
       "  </tbody>\n",
       "</table>\n",
       "</div>"
      ],
      "text/plain": [
       "          niveau 1  niveau 2  niveau 3\n",
       "niveau 1        44        34         0\n",
       "niveau 2        25        54         0\n",
       "niveau 3         3        33         2"
      ]
     },
     "execution_count": 46,
     "metadata": {},
     "output_type": "execute_result"
    }
   ],
   "source": [
    "yChap=svmOpt.predict(np.array(X_test_exp_level_dummies))\n",
    "pd.DataFrame(confusion_matrix(y_test_exp_level, yChap), index = labels, columns=labels)"
   ]
  },
  {
   "cell_type": "markdown",
   "id": "30a60e0d",
   "metadata": {},
   "source": [
    "La prédiction est toujours mauvaise, mais elle a nettement améliorer avec l'optimisation des paramètre: certains individus sont prédit dans les cathegories 1 et 3. L'erreur de généralisation reste de 45%. "
   ]
  },
  {
   "cell_type": "markdown",
   "id": "9d8a9a75",
   "metadata": {},
   "source": [
    "comparaison svm linéaire: (vs radiale)\n",
    "temps de calcul:\n",
    "performance:  "
   ]
  }
 ],
 "metadata": {
  "kernelspec": {
   "display_name": "Python [conda env:base] *",
   "language": "python",
   "name": "conda-base-py"
  },
  "language_info": {
   "codemirror_mode": {
    "name": "ipython",
    "version": 3
   },
   "file_extension": ".py",
   "mimetype": "text/x-python",
   "name": "python",
   "nbconvert_exporter": "python",
   "pygments_lexer": "ipython3",
   "version": "3.12.3"
  }
 },
 "nbformat": 4,
 "nbformat_minor": 5
}
