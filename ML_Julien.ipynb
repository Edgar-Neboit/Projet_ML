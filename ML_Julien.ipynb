{
 "cells": [
  {
   "cell_type": "code",
   "execution_count": 227,
   "id": "d7244443-1f4a-4b6c-97e3-2f992fe8be9c",
   "metadata": {},
   "outputs": [
    {
     "name": "stderr",
     "output_type": "stream",
     "text": [
      "Installation du package dans 'C:/Users/julie/AppData/Local/R/win-library/4.4'\n",
      "(car 'lib' n'est pas spécifié)\n",
      "\n"
     ]
    },
    {
     "name": "stdout",
     "output_type": "stream",
     "text": [
      "le package 'xgboost' a été décompressé et les sommes MD5 ont été vérifiées avec succés\n",
      "\n",
      "Les packages binaires téléchargés sont dans\n",
      "\tC:\\Users\\julie\\AppData\\Local\\Temp\\Rtmp6fls5T\\downloaded_packages\n"
     ]
    }
   ],
   "source": [
    "#install.packages(\"nom\")"
   ]
  },
  {
   "cell_type": "code",
   "execution_count": 229,
   "id": "7f5beead-dde9-47bc-be09-828e800f2cf8",
   "metadata": {
    "vscode": {
     "languageId": "r"
    }
   },
   "outputs": [
    {
     "name": "stderr",
     "output_type": "stream",
     "text": [
      "Warning message:\n",
      "\"le package 'xgboost' a été compilé avec la version R 4.4.3\"\n",
      "\n",
      "Attachement du package : 'xgboost'\n",
      "\n",
      "\n",
      "L'objet suivant est masqué depuis 'package:plotly':\n",
      "\n",
      "    slice\n",
      "\n",
      "\n",
      "L'objet suivant est masqué depuis 'package:dplyr':\n",
      "\n",
      "    slice\n",
      "\n",
      "\n"
     ]
    }
   ],
   "source": [
    "# Chargement des librairies nécessaires\n",
    "library(ggplot2)\n",
    "library(tidyverse)\n",
    "library(gridExtra)\n",
    "library(GGally)\n",
    "library(plotly)\n",
    "library(corrplot)\n",
    "library(reshape2)\n",
    "library(FactoMineR) \n",
    "library(factoextra)\n",
    "library(glmnet) \n",
    "library(ggfortify)\n",
    "library(pROC)\n",
    "library(ROCR)\n",
    "library(caret)\n",
    "library(nnet)\n",
    "library(mlr3)\n",
    "library(mlr3learners)\n",
    "library(mlr3pipelines)\n",
    "library(RColorBrewer)\n",
    "library(e1071)\n",
    "library(rpart)\n",
    "library(rpart.plot)\n",
    "library(randomForest)\n",
    "library(xgboost)"
   ]
  },
  {
   "cell_type": "code",
   "execution_count": 3,
   "id": "ca226877-5b6d-4ac4-8b2d-5c961fa04d41",
   "metadata": {
    "vscode": {
     "languageId": "r"
    }
   },
   "outputs": [],
   "source": [
    "# Lecture des données\n",
    "# Factorisation de certaines variables\n",
    "# path=\"http://www.math.univ-toulouse.fr/~besse/Wikistat/data/\"\n",
    "path <- \"\"\n",
    "data <- read.table(paste(path, \"gym_members_exercise_tracking.csv\", sep = \"\"),\n",
    "                    sep = \",\", header = TRUE)\n",
    "\n",
    "data[, \"Gender\"] <- as.factor(data[, \"Gender\"])\n",
    "data[, \"Workout_Type\"] <- as.factor(data[, \"Workout_Type\"])\n",
    "data[, \"Experience_Level\"] <- as.factor(data[, \"Experience_Level\"])\n",
    "data[, \"Workout_Frequency..days.week.\"] <- as.factor(data[, \"Workout_Frequency..days.week.\"])"
   ]
  },
  {
   "cell_type": "code",
   "execution_count": 5,
   "id": "0394939a-6670-421e-8bb4-373ca4351b92",
   "metadata": {},
   "outputs": [],
   "source": [
    "#Fonction qui calcule et affiche le pourcentage d'erreur \n",
    "#à partirde la matrice de confusion\n",
    "\n",
    "pourcentage_erreur <- function(conf_matrix) {\n",
    "  total_samples <- sum(conf_matrix)\n",
    "  errors <- total_samples - sum(diag(conf_matrix))\n",
    "  error_percentage <- (errors / total_samples) * 100\n",
    "  print(paste(\"Pourcentage d'erreur :\", round(error_percentage, 2), \"%\"))\n",
    "}"
   ]
  },
  {
   "cell_type": "code",
   "execution_count": 7,
   "id": "5f58eb69-da9b-428d-b101-7b4f1e5c5baf",
   "metadata": {
    "vscode": {
     "languageId": "r"
    }
   },
   "outputs": [],
   "source": [
    "set.seed(1234) # initialisation du générateur\n",
    "\n",
    "# Extraction des échantillons\n",
    "test.ratio <- 0.2 \n",
    "n_ind <- nrow(data) # nombre de lignes dans les données\n",
    "n_var <- ncol(data) # nombre de colonnes\n",
    "n_test <- ceiling(n_ind * test.ratio) # nombre d'individus de l'échantillon test\n",
    "\n",
    "# indices des échantillons test et apprentissage\n",
    "test_i <- sample(1:n_ind, n_test)\n",
    "appr_i <- setdiff(1:n_ind, test_i) \n",
    "\n",
    "# construction des échantillons test et apprentissage\n",
    "data_exp <- data[appr_i, -11] \n",
    "data_test <- data[test_i, -11] "
   ]
  },
  {
   "cell_type": "code",
   "execution_count": 9,
   "id": "669a9658-bf8f-4c0a-82e0-236b9eec6503",
   "metadata": {
    "vscode": {
     "languageId": "r"
    }
   },
   "outputs": [
    {
     "data": {
      "text/plain": [
       "      Age             Gender     Weight..kg.        Height..m.      \n",
       " Min.   :-1.7024   Female:361   Min.   :-1.6184   Min.   :-1.73242  \n",
       " 1st Qu.:-0.8802   Male  :417   1st Qu.:-0.7485   1st Qu.:-0.79350  \n",
       " Median : 0.1064                Median :-0.2008   Median :-0.08931  \n",
       " Mean   : 0.0000                Mean   : 0.0000   Mean   : 0.00000  \n",
       " 3rd Qu.: 0.8464                3rd Qu.: 0.5867   3rd Qu.: 0.61489  \n",
       " Max.   : 1.6686                Max.   : 2.6725   Max.   : 2.17975  \n",
       "    Max_BPM            Avg_BPM          Resting_BPM       \n",
       " Min.   :-1.72338   Min.   :-1.68409   Min.   :-1.668909  \n",
       " 1st Qu.:-0.84728   1st Qu.:-0.84617   1st Qu.:-0.835793  \n",
       " Median : 0.02883   Median :-0.07808   Median :-0.002677  \n",
       " Mean   : 0.00000   Mean   : 0.00000   Mean   : 0.000000  \n",
       " 3rd Qu.: 0.81732   3rd Qu.: 0.88203   3rd Qu.: 0.830439  \n",
       " Max.   : 1.69343   Max.   : 1.73740   Max.   : 1.663555  \n",
       " Session_Duration..hours. Calories_Burned      Workout_Type\n",
       " Min.   :-2.20503         Min.   :-2.19892   Cardio  :201  \n",
       " 1st Qu.:-0.62200         1st Qu.:-0.69705   HIIT    :178  \n",
       " Median : 0.02983         Median :-0.01487   Strength:215  \n",
       " Mean   : 0.00000         Mean   : 0.00000   Yoga    :184  \n",
       " 3rd Qu.: 0.57422         3rd Qu.: 0.66106                 \n",
       " Max.   : 2.09278         Max.   : 3.08708                 \n",
       " Water_Intake..liters. Workout_Frequency..days.week. Experience_Level\n",
       " Min.   :-1.91874      2:147                         1:285           \n",
       " 1st Qu.:-0.74898      3:284                         2:330           \n",
       " Median : 0.08656      4:263                         3:163           \n",
       " Mean   : 0.00000      5: 84                                         \n",
       " 3rd Qu.: 0.92210                                                    \n",
       " Max.   : 1.75765                                                    \n",
       "      BMI         \n",
       " Min.   :-1.8868  \n",
       " 1st Qu.:-0.7135  \n",
       " Median :-0.1186  \n",
       " Mean   : 0.0000  \n",
       " 3rd Qu.: 0.5287  \n",
       " Max.   : 3.6998  "
      ]
     },
     "metadata": {},
     "output_type": "display_data"
    },
    {
     "data": {
      "text/plain": [
       "      Age               Gender     Weight..kg.        Height..m.      \n",
       " Min.   :-1.702368   Female:101   Min.   :-1.6184   Min.   :-1.65418  \n",
       " 1st Qu.:-0.921301   Male  : 94   1st Qu.:-0.8332   1st Qu.:-0.79350  \n",
       " Median : 0.024200                Median :-0.1435   Median :-0.08931  \n",
       " Mean   :-0.009108                Mean   :-0.0126   Mean   : 0.04551  \n",
       " 3rd Qu.: 0.928593                3rd Qu.: 0.4435   3rd Qu.: 0.77137  \n",
       " Max.   : 1.668551                Max.   : 2.6534   Max.   : 2.17975  \n",
       "    Max_BPM            Avg_BPM         Resting_BPM     \n",
       " Min.   :-1.72338   Min.   :-1.6841   Min.   :-1.6689  \n",
       " 1st Qu.:-0.84728   1st Qu.:-0.9160   1st Qu.:-0.8358  \n",
       " Median : 0.20405   Median :-0.2177   Median : 0.2750  \n",
       " Mean   : 0.09308   Mean   :-0.1225   Mean   : 0.1412  \n",
       " 3rd Qu.: 1.08015   3rd Qu.: 0.7598   3rd Qu.: 1.1081  \n",
       " Max.   : 1.69343   Max.   : 1.7374   Max.   : 1.6636  \n",
       " Session_Duration..hours. Calories_Burned     Workout_Type\n",
       " Min.   :-2.1764          Min.   :-2.0168   Cardio  :54   \n",
       " 1st Qu.:-0.7581          1st Qu.:-0.7381   HIIT    :43   \n",
       " Median :-0.1707          Median :-0.1988   Strength:43   \n",
       " Mean   :-0.1882          Mean   :-0.2360   Yoga    :55   \n",
       " 3rd Qu.: 0.3880          3rd Qu.: 0.2905                 \n",
       " Max.   : 2.0641          Max.   : 2.5978                 \n",
       " Water_Intake..liters. Workout_Frequency..days.week. Experience_Level\n",
       " Min.   :-1.9187       2:50                          1:91            \n",
       " 1st Qu.:-0.9161       3:84                          2:76            \n",
       " Median :-0.2477       4:43                          3:28            \n",
       " Mean   :-0.1800       5:18                                          \n",
       " 3rd Qu.: 0.5043                                                     \n",
       " Max.   : 1.7576                                                     \n",
       "      BMI          \n",
       " Min.   :-1.79000  \n",
       " 1st Qu.:-0.81324  \n",
       " Median :-0.12831  \n",
       " Mean   :-0.05916  \n",
       " 3rd Qu.: 0.53874  \n",
       " Max.   : 3.38415  "
      ]
     },
     "metadata": {},
     "output_type": "display_data"
    }
   ],
   "source": [
    "#On centre et réduit les données\n",
    "\n",
    "quantitative_columns <- c(1,3:9,11,14)\n",
    "\n",
    "data_exp_0 <- data_exp[, quantitative_columns]\n",
    "\n",
    "data_exp[, quantitative_columns] <- scale(data_exp[, quantitative_columns],center = TRUE, scale = TRUE)\n",
    "data_test[, quantitative_columns]=scale(data_test[, quantitative_columns], center=sapply(data_exp_0,mean), \n",
    "                            scale=sapply(data_exp_0,sd))\n",
    "#summary(data_exp)\n",
    "#summary(data_test)"
   ]
  },
  {
   "cell_type": "code",
   "execution_count": 11,
   "id": "2b43556e-86be-4266-8493-9f6596a9b7be",
   "metadata": {
    "vscode": {
     "languageId": "r"
    }
   },
   "outputs": [
    {
     "name": "stdout",
     "output_type": "stream",
     "text": [
      "[1] \"Best Lambda : 0.000535336940371511\"\n",
      "[1] \"LSE Lambda : 0.00285693223811698\"\n"
     ]
    },
    {
     "data": {
      "image/png": "[encoded data removed]",
      "text/plain": [
       "plot without title"
      ]
     },
     "metadata": {
      "image/png": {
       "height": 420,
       "width": 420
      }
     },
     "output_type": "display_data"
    }
   ],
   "source": [
    "# Régression multinomiale en prenant en compte les interactions doubles\n",
    "#OvA (par défaut)\n",
    "\n",
    "# On va réduire le nombre de coefficients par Lasso\n",
    "# Pour cela, on affiche lambda en fonction de la deviance\n",
    "\n",
    "\n",
    "# Convertir les données en matrice pour glmnet\n",
    "# si ~ .^2 => erreur = 15% environ\n",
    "x <- model.matrix(Experience_Level ~ ., data = data_exp)[, -1]  # Prédicteurs \n",
    "y <- model.matrix(~ Experience_Level + 0, data = data_exp)      # Réponse\n",
    "\n",
    "# Ajustement du modèle avec validation croisée\n",
    "cv_fit <- cv.glmnet(x, y, family = \"multinomial\", alpha = 1)\n",
    "autoplot(cv_fit)\n",
    "\n",
    "# Afficher le meilleur lambda\n",
    "best_lambda <- cv_fit$lambda.min\n",
    "print(paste(\"Best Lambda :\", best_lambda))\n",
    "\n",
    "#Affiche le plus grand lambda envisageable\n",
    "lse_lambda <- cv_fit$lambda.1se\n",
    "print(paste(\"LSE Lambda :\", lse_lambda))"
   ]
  },
  {
   "cell_type": "code",
   "execution_count": 12,
   "id": "1266da43-9bd0-4eab-abc4-f17b41b9a349",
   "metadata": {
    "vscode": {
     "languageId": "r"
    }
   },
   "outputs": [
    {
     "name": "stdout",
     "output_type": "stream",
     "text": [
      "$Experience_Level1\n",
      "18 x 1 sparse Matrix of class \"dgCMatrix\"\n",
      "                                        s0\n",
      "                                4.15905241\n",
      "Age                             .         \n",
      "GenderMale                      .         \n",
      "Weight..kg.                     .         \n",
      "Height..m.                      0.07279017\n",
      "Max_BPM                         .         \n",
      "Avg_BPM                         .         \n",
      "Resting_BPM                     .         \n",
      "Session_Duration..hours.       -1.36873248\n",
      "Calories_Burned                -0.12308047\n",
      "Workout_TypeHIIT                .         \n",
      "Workout_TypeStrength            0.35163813\n",
      "Workout_TypeYoga                .         \n",
      "Water_Intake..liters.           .         \n",
      "Workout_Frequency..days.week.3  .         \n",
      "Workout_Frequency..days.week.4 -8.43945437\n",
      "Workout_Frequency..days.week.5  .         \n",
      "BMI                             .         \n",
      "\n",
      "$Experience_Level2\n",
      "18 x 1 sparse Matrix of class \"dgCMatrix\"\n",
      "                                         s0\n",
      "                               -0.053010676\n",
      "Age                            -0.109102605\n",
      "GenderMale                      0.880270856\n",
      "Weight..kg.                     .          \n",
      "Height..m.                      .          \n",
      "Max_BPM                         .          \n",
      "Avg_BPM                         .          \n",
      "Resting_BPM                     0.004506348\n",
      "Session_Duration..hours.        .          \n",
      "Calories_Burned                 .          \n",
      "Workout_TypeHIIT               -0.120121204\n",
      "Workout_TypeStrength            .          \n",
      "Workout_TypeYoga                0.042270172\n",
      "Water_Intake..liters.          -0.289412434\n",
      "Workout_Frequency..days.week.3  4.352101687\n",
      "Workout_Frequency..days.week.4  0.887455823\n",
      "Workout_Frequency..days.week.5  .          \n",
      "BMI                             .          \n",
      "\n",
      "$Experience_Level3\n",
      "18 x 1 sparse Matrix of class \"dgCMatrix\"\n",
      "                                       s0\n",
      "                               -4.1060417\n",
      "Age                             .        \n",
      "GenderMale                      .        \n",
      "Weight..kg.                     .        \n",
      "Height..m.                      .        \n",
      "Max_BPM                         .        \n",
      "Avg_BPM                         .        \n",
      "Resting_BPM                     .        \n",
      "Session_Duration..hours.        6.7733367\n",
      "Calories_Burned                 .        \n",
      "Workout_TypeHIIT                .        \n",
      "Workout_TypeStrength            .        \n",
      "Workout_TypeYoga                .        \n",
      "Water_Intake..liters.           0.7800404\n",
      "Workout_Frequency..days.week.3  .        \n",
      "Workout_Frequency..days.week.4  .        \n",
      "Workout_Frequency..days.week.5  4.2559143\n",
      "BMI                             .        \n",
      "\n"
     ]
    }
   ],
   "source": [
    "# Choix du lambda\n",
    "chosen_lambda <- lse_lambda\n",
    "\n",
    "# Ajuster le modèle final avec le meilleur lambda\n",
    "final_model <- glmnet(x, y, family = \"multinomial\", alpha = 1, lambda = chosen_lambda)\n",
    "\n",
    "# Afficher les coefficients du modèle final\n",
    "print(coef(final_model))"
   ]
  },
  {
   "cell_type": "code",
   "execution_count": 30,
   "id": "08beaf39-8d62-4c2d-be5c-324dc744cfa6",
   "metadata": {
    "vscode": {
     "languageId": "r"
    }
   },
   "outputs": [
    {
     "name": "stdout",
     "output_type": "stream",
     "text": [
      "         Actual\n",
      "Predicted  1  2  3\n",
      "        1 73 15  0\n",
      "        2 18 61  0\n",
      "        3  0  0 28\n",
      "[1] \"Pourcentage d'erreur : 16.92 %\"\n"
     ]
    }
   ],
   "source": [
    "#On va faire la matrice de confusion dans cette cellule.\n",
    "\n",
    "# Convertir les données test en matrice pour glmnet\n",
    "# si ~ .^2 => erreur = 15% environ\n",
    "x_test <- model.matrix(Experience_Level ~ ., data = data_test)[, -1]  # Prédicteurs\n",
    "y_test <- model.matrix(~ Experience_Level + 0, data = data_test)  # Réponse réelle (one-hot)\n",
    "\n",
    "# Prédiction des probabilités pour chaque classe\n",
    "pred_probs <- predict(final_model, newx = x_test, type = \"response\")\n",
    "\n",
    "# Modification nécessaires pour tracer les courbes ROC\n",
    "probabilities_logit <- pred_probs[,,1]\n",
    "probabilities_logit <- as.data.frame(probabilities_logit)\n",
    "colnames(probabilities_logit) <- c(\"1\", \"2\", \"3\")\n",
    "\n",
    "\n",
    "# Convertir les probabilités en classes prédictes (classe avec proba max)\n",
    "pred_class <- apply(pred_probs, 1, which.max)\n",
    "# Convertir y_test en indices de classes réelles\n",
    "true_class <- apply(y_test, 1, which.max)\n",
    "\n",
    "# Construire la matrice de confusion\n",
    "conf_matrix_logit <- table(Predicted = pred_class, Actual = true_class)\n",
    "print(conf_matrix_logit)\n",
    "pourcentage_erreur(conf_matrix_logit)"
   ]
  },
  {
   "cell_type": "code",
   "execution_count": 35,
   "id": "2a75f96b-3e4b-4607-b66a-d238f5cdb7cb",
   "metadata": {
    "vscode": {
     "languageId": "r"
    }
   },
   "outputs": [],
   "source": [
    "#Analyse discriminante"
   ]
  },
  {
   "cell_type": "code",
   "execution_count": 14,
   "id": "6a77fc8f-4e7f-4562-ab83-546d0b828c4a",
   "metadata": {},
   "outputs": [],
   "source": [
    "# Initialisation de la validation croisée avec 10 folds\n",
    "# Intervient dès que l'on utilise la\n",
    "# fonction train du package caret\n",
    "param_train<-trainControl(method=\"cv\",number=10)"
   ]
  },
  {
   "cell_type": "code",
   "execution_count": 16,
   "id": "0aa8aff8-4d6e-4be8-892d-03f643e8e02c",
   "metadata": {},
   "outputs": [
    {
     "name": "stdout",
     "output_type": "stream",
     "text": [
      "   predictions_lda\n",
      "     1  2  3\n",
      "  1 72 19  0\n",
      "  2 12 64  0\n",
      "  3  0  1 27\n",
      "[1] \"Pourcentage d'erreur : 16.41 %\"\n"
     ]
    }
   ],
   "source": [
    "#LDA : Linear Discriminant Analysis\n",
    "\n",
    "lda.fit<-train(Experience_Level ~ ., data = data_exp, method=\"lda\")\n",
    "\n",
    "# erreur par validation croisée  en analyse discriminante linéaire\n",
    "lda.fit <- train(Experience_Level ~ ., data = data_exp, method=\"lda\",trControl=param_train)\n",
    "\n",
    "predictions_lda <-predict(lda.fit, data_test)\n",
    "probabilities_lda <-predict(lda.fit, data_test, type=\"prob\")\n",
    "\n",
    "# estimer le taux d'erreur à partir de la matrice de confusion\n",
    "conf_matrix_lda=table(data_test[,\"Experience_Level\"],predictions_lda)\n",
    "print(conf_matrix_lda)\n",
    "pourcentage_erreur(conf_matrix_lda)"
   ]
  },
  {
   "cell_type": "code",
   "execution_count": 18,
   "id": "c7f5aa94-909b-4acf-a1d2-bfcd334a0d29",
   "metadata": {},
   "outputs": [
    {
     "name": "stdout",
     "output_type": "stream",
     "text": [
      "   predictions_knn\n",
      "     1  2  3\n",
      "  1 54 36  1\n",
      "  2  9 65  2\n",
      "  3  0  0 28\n",
      "[1] \"Pourcentage d'erreur : 24.62 %\"\n"
     ]
    }
   ],
   "source": [
    "#kNN : k-Nearest Neighbour Classification\n",
    "\n",
    "#Initialisation du générateur\n",
    "set.seed(1234)\n",
    "\n",
    "knn.fit<-train(Experience_Level ~ ., data = data_exp ,method=\"knn\")\n",
    "\n",
    "# erreur par validation croisée  en kNN\n",
    "knn.fit <- train(Experience_Level ~ ., data = data_exp, method=\"knn\",trControl=param_train,tuneLength=20)\n",
    "\n",
    "predictions_knn <-predict(knn.fit, data_test)\n",
    "probabilities_knn <-predict(knn.fit, data_test, type=\"prob\")\n",
    "\n",
    "# estimer le taux d'erreur à partir de la matrice de confusion\n",
    "conf_matrix_knn=table(data_test[,\"Experience_Level\"],predictions_knn)\n",
    "print(conf_matrix_knn)\n",
    "pourcentage_erreur(conf_matrix_knn)"
   ]
  },
  {
   "cell_type": "code",
   "execution_count": 34,
   "id": "1645c2e6-834a-4010-abf8-cc743deb34da",
   "metadata": {},
   "outputs": [
    {
     "data": {
      "image/png": "[encoded data removed]",
      "text/plain": [
       "Plot with title \"Performance of `svm'\""
      ]
     },
     "metadata": {
      "image/png": {
       "height": 420,
       "width": 420
      }
     },
     "output_type": "display_data"
    }
   ],
   "source": [
    "#SVM kernel radial\n",
    "set.seed(1234)\n",
    "\n",
    "#La zone de recherche est volontairement déjà centré sur les paramètres optimaux\n",
    "svm.rad.tune = tune.svm(Experience_Level ~ ., data = data_exp, cost = c(2, 2.5, 3, 3.5,4,4.5), \n",
    "    gamma = seq(0.01, 0.1, by = 0.02), kernel= \"radial\")\n",
    "plot(svm.rad.tune)"
   ]
  },
  {
   "cell_type": "code",
   "execution_count": 128,
   "id": "a8eaf9d4-11ca-44da-b62c-579b476ac23f",
   "metadata": {},
   "outputs": [
    {
     "name": "stdout",
     "output_type": "stream",
     "text": [
      "   pred.svm.rad\n",
      "     1  2  3\n",
      "  1 70 21  0\n",
      "  2  9 67  0\n",
      "  3  0  1 27\n",
      "[1] \"Pourcentage d'erreur : 15.9 %\"\n"
     ]
    }
   ],
   "source": [
    "set.seed(1234)\n",
    "\n",
    "svm.rad = svm(Experience_Level ~ ., data = data_exp, \n",
    "              cost = svm.rad.tune$best.parameters$cost, \n",
    "              gamma = svm.rad.tune$best.parameters$gamma,\n",
    "              probability=TRUE)\n",
    "\n",
    "pred.svm.rad=predict(svm.rad,newdata=data_test,probability=TRUE)\n",
    "\n",
    "#Utiles pour les courbes ROC :\n",
    "probabilities_svm.rad <- attr(pred.svm.rad, \"probabilities\")\n",
    "probabilities_svm.rad <- as.data.frame(probabilities_svm.rad)\n",
    "\n",
    "conf_matrix_svm.rad=table(data_test[,\"Experience_Level\"],pred.svm.rad)\n",
    "print(conf_matrix_svm.rad)\n",
    "pourcentage_erreur(conf_matrix_svm.rad)"
   ]
  },
  {
   "cell_type": "code",
   "execution_count": 130,
   "id": "65031b32-6c28-436d-b14b-771b667cf20d",
   "metadata": {},
   "outputs": [
    {
     "data": {
      "image/png": "[encoded data removed]",
      "text/plain": [
       "Plot with title \"Performance of `svm'\""
      ]
     },
     "metadata": {
      "image/png": {
       "height": 420,
       "width": 420
      }
     },
     "output_type": "display_data"
    }
   ],
   "source": [
    "#SVM kernel polynomial\n",
    "# Le changement de kernel n'a pas bcp d'incidence...\n",
    "\n",
    "set.seed(1234)\n",
    "\n",
    "# On peut rajouter :\n",
    "# coef0 = c(0.5,1,1.5), degree= c(2,3)\n",
    "# Mais c'est trop long\n",
    "\n",
    "svm.pol.tune = tune.svm(Experience_Level ~ ., data = data_exp, kernel= \"polynomial\", cost = c(3.5,4,4.5,5), \n",
    "    gamma = seq(0.01, 0.1, by = 0.02), coef0=1, degree=3) \n",
    "\n",
    "plot(svm.rad.tune)"
   ]
  },
  {
   "cell_type": "code",
   "execution_count": 131,
   "id": "49f2b34a-0c6b-455c-b302-16656e1c0854",
   "metadata": {},
   "outputs": [
    {
     "name": "stdout",
     "output_type": "stream",
     "text": [
      "   pred.svm.pol\n",
      "     1  2  3\n",
      "  1 68 23  0\n",
      "  2  9 67  0\n",
      "  3  0  1 27\n",
      "[1] \"Pourcentage d'erreur : 16.92 %\"\n"
     ]
    }
   ],
   "source": [
    "svm.pol = svm(Experience_Level ~ ., data = data_exp, kernel= \"polynomial\",\n",
    "              cost = svm.pol.tune$best.parameters$cost, \n",
    "              gamma = svm.pol.tune$best.parameters$gamma,\n",
    "              coef0 = 1,\n",
    "              degree = 3,\n",
    "              probability=TRUE)\n",
    "\n",
    "pred.svm.pol=predict(svm.pol,newdata=data_test,probability=TRUE)\n",
    "\n",
    "#Utiles pour les courbes ROC :\n",
    "probabilities_svm.pol <- attr(pred.svm, \"probabilities\")\n",
    "probabilities_svm.pol <- as.data.frame(probabilities_svm.pol)\n",
    "\n",
    "conf_matrix_svm.pol=table(data_test[,\"Experience_Level\"],pred.svm.pol)\n",
    "print(conf_matrix_svm.pol)\n",
    "pourcentage_erreur(conf_matrix_svm.pol)"
   ]
  },
  {
   "cell_type": "code",
   "execution_count": 169,
   "id": "4b1169d4-7ebc-403d-854a-2942e6301300",
   "metadata": {},
   "outputs": [
    {
     "name": "stdout",
     "output_type": "stream",
     "text": [
      "[1] \"Valeur de cp retenue = 0.0765977443609022\"\n"
     ]
    },
    {
     "data": {
      "image/png": "[encoded data removed]",
      "text/plain": [
       "plot without title"
      ]
     },
     "metadata": {
      "image/png": {
       "height": 600,
       "width": 900
      }
     },
     "output_type": "display_data"
    }
   ],
   "source": [
    "#Arbres\n",
    "set.seed(1234)\n",
    "\n",
    "tree.fit <- train(Experience_Level~.,data=data_exp ,method = \"rpart\", trControl = param_train , tuneLength =20, metric=\"Accuracy\")\n",
    "print(paste(\"Valeur de cp retenue = \", tree.fit$bestTune, sep=\"\"))\n",
    "rpart.plot(tree.fit$finalModel)"
   ]
  },
  {
   "cell_type": "code",
   "execution_count": 171,
   "id": "70eacceb-f611-41d6-a86f-2a452c82bf44",
   "metadata": {},
   "outputs": [
    {
     "name": "stdout",
     "output_type": "stream",
     "text": [
      "   predictions_tree\n",
      "     1  2  3\n",
      "  1 68 23  0\n",
      "  2  0 76  0\n",
      "  3  0  0 28\n",
      "[1] \"Pourcentage d'erreur : 11.79 %\"\n"
     ]
    }
   ],
   "source": [
    "predictions_tree <-predict(tree.fit, data_test)\n",
    "probabilities_tree <-predict(tree.fit, data_test, type=\"prob\")\n",
    "\n",
    "# estimer le taux d'erreur à partir de la matrice de confusion\n",
    "conf_matrix_tree=table(data_test[,\"Experience_Level\"],predictions_tree)\n",
    "print(conf_matrix_tree)\n",
    "pourcentage_erreur(conf_matrix_tree)"
   ]
  },
  {
   "cell_type": "code",
   "execution_count": 191,
   "id": "6e04e342-d459-4aba-9d2b-b00bd7510d4b",
   "metadata": {},
   "outputs": [
    {
     "name": "stdout",
     "output_type": "stream",
     "text": [
      "ntree      OOB      1      2      3|    Test      1      2      3\n",
      "   50:  11.57% 22.46%  7.58%  0.61%|  12.31% 23.08%  3.95%  0.00%\n",
      "  100:  11.83% 23.16%  7.58%  0.61%|  12.31% 24.18%  2.63%  0.00%\n",
      "  150:  11.05% 23.51%  5.45%  0.61%|  12.82% 25.27%  2.63%  0.00%\n",
      "  200:  10.67% 23.16%  4.85%  0.61%|  12.82% 25.27%  2.63%  0.00%\n",
      "  250:  10.41% 22.81%  4.55%  0.61%|  12.31% 24.18%  2.63%  0.00%\n",
      "  300:  10.41% 23.51%  3.94%  0.61%|  12.31% 24.18%  2.63%  0.00%\n",
      "  350:  10.80% 23.86%  4.55%  0.61%|  12.82% 25.27%  2.63%  0.00%\n",
      "  400:  10.67% 23.51%  4.55%  0.61%|  12.31% 24.18%  2.63%  0.00%\n",
      "  450:  10.93% 24.21%  4.55%  0.61%|  12.31% 25.27%  1.32%  0.00%\n",
      "  500:  11.18% 23.86%  5.45%  0.61%|  12.31% 25.27%  1.32%  0.00%\n"
     ]
    }
   ],
   "source": [
    "#RandomForest\n",
    "\n",
    "rf.dis=randomForest(Experience_Level~., data=data_exp, xtest=data_test[,-13], ytest=data_test[,\n",
    "   \"Experience_Level\"] ,ntree=500, do.trace=50, importance=TRUE)\n",
    "\n",
    "#rf.dis$importance"
   ]
  },
  {
   "cell_type": "code",
   "execution_count": 215,
   "id": "9fe22586-136e-436d-a6fe-66ed6d4244a5",
   "metadata": {},
   "outputs": [
    {
     "name": "stdout",
     "output_type": "stream",
     "text": [
      "        \n",
      "pred.rfq  1  2  3\n",
      "       1 68  1  0\n",
      "       2 23 75  0\n",
      "       3  0  0 28\n",
      "[1] \"Pourcentage d'erreur : 12.31 %\"\n"
     ]
    }
   ],
   "source": [
    "pred.rfq=rf.dis$test$predicted\n",
    "\n",
    "probabilities_rfq = as.data.frame(rf.dis$test$votes)\n",
    "\n",
    "confusion_matrix = table(pred.rfq,data_test[,\"Experience_Level\"])\n",
    "print(confusion_matrix)\n",
    "pourcentage_erreur(confusion_matrix)"
   ]
  },
  {
   "cell_type": "code",
   "execution_count": 243,
   "id": "d67f7c1a-e89e-4ded-a979-76347d4bc7e0",
   "metadata": {},
   "outputs": [
    {
     "name": "stdout",
     "output_type": "stream",
     "text": [
      "         Actual\n",
      "Predicted  1  2  3\n",
      "        1 69  4  0\n",
      "        2 22 72  0\n",
      "        3  0  0 28\n",
      "[1] \"Pourcentage d'erreur : 13.33 %\"\n"
     ]
    }
   ],
   "source": [
    "#Boosting\n",
    "\n",
    "# Création des matrices X sans la variable cible\n",
    "X_train <- model.matrix(Experience_Level ~ . -1, data = data_exp)\n",
    "X_test <- model.matrix(Experience_Level ~ . -1, data = data_test)\n",
    "\n",
    "# Idem pour y (qui doit être indexée par 0)\n",
    "y_train <- as.numeric(data_exp$Experience_Level) - 1\n",
    "y_test <- as.numeric(data_test$Experience_Level) - 1\n",
    "\n",
    "xgb_model <- xgboost(data = X_train, label = y_train,\n",
    "                     objective = \"multi:softprob\",\n",
    "                     num_class = 3,\n",
    "                     nrounds = 100,\n",
    "                     eval_metric = \"mlogloss\",\n",
    "                     verbose = FALSE)\n",
    "\n",
    "probabilities_boost <- predict(xgb_model, X_test)\n",
    "probabilities_boost <- as.data.frame(matrix(probabilities_boost, ncol = 3, byrow = TRUE))\n",
    "colnames(probabilities_boost) <- as.character(1:3)\n",
    "\n",
    "pred_class <- max.col(probabilities_boost)\n",
    "true_class <- y_test + 1\n",
    "\n",
    "confusion_matrix_boost <- table(Predicted = pred_class, Actual = true_class)\n",
    "print(confusion_matrix_boost)\n",
    "pourcentage_erreur(confusion_matrix_boost)"
   ]
  },
  {
   "cell_type": "code",
   "execution_count": 132,
   "id": "4371c85e-a537-445c-b5de-f15c25b6f3aa",
   "metadata": {},
   "outputs": [],
   "source": [
    "# Fonction pour tracer les courbes ROC\n",
    "\n",
    "plot_roc_curves <- function(probabilities, model_name) {\n",
    "  roc_curves <- list()\n",
    "  colors <- brewer.pal(3, \"Set2\")\n",
    "\n",
    "  # Calculer la courbe ROC pour chaque classe\n",
    "  for (class in levels(data_test$Experience_Level)) {\n",
    "    binary_labels <- as.numeric(data_test$Experience_Level == class)\n",
    "    roc_curve <- roc(binary_labels, probabilities[, class], quiet = TRUE)\n",
    "    roc_curves[[class]] <- roc_curve\n",
    "  }\n",
    "\n",
    "  # Tracer les courbes ROC\n",
    "  plot(roc_curves[[levels(data_test$Experience_Level)[1]]], col = colors[1], lty = 1, lwd = 2, main = paste(\"Courbes ROC par\", model_name))\n",
    "  lines(roc_curves[[levels(data_test$Experience_Level)[2]]], col = colors[2], lty = 1, lwd = 2)\n",
    "  lines(roc_curves[[levels(data_test$Experience_Level)[3]]], col = colors[3], lty = 1, lwd = 2)\n",
    "\n",
    "  # Ajouter une légende\n",
    "  legend(\"bottomright\", legend = levels(data_test$Experience_Level), col = colors, lwd = 2)\n",
    "    \n",
    "}\n",
    "\n",
    "\n",
    "\n",
    "# Fonction pour tracer les courbes ROC superposées\n",
    "\n",
    "plot_superposed_roc_curves <- function(probabilities_1, model_name_1, probabilities_2, model_name_2) {\n",
    "  roc_curves_1 <- list()\n",
    "  roc_curves_2 <- list()\n",
    "  colors_1 <- brewer.pal(3, \"Set2\")\n",
    "  colors_2 <- brewer.pal(3, \"Dark2\") \n",
    "\n",
    "  # Calculer les courbes ROC pour chaque classe pour le premier modèle\n",
    "  for (class in levels(data_test$Experience_Level)) {\n",
    "    binary_labels <- as.numeric(data_test$Experience_Level == class)\n",
    "    roc_curve <- roc(binary_labels, probabilities_1[, class], quiet = TRUE)\n",
    "    roc_curves_1[[class]] <- roc_curve\n",
    "  }\n",
    "\n",
    "  # Calculer les courbes ROC pour chaque classe pour le second modèle\n",
    "  for (class in levels(data_test$Experience_Level)) {\n",
    "    binary_labels <- as.numeric(data_test$Experience_Level == class)\n",
    "    roc_curve <- roc(binary_labels, probabilities_2[, class], quiet = TRUE)\n",
    "    roc_curves_2[[class]] <- roc_curve\n",
    "  }\n",
    "\n",
    "  # Tracer les courbes ROC superposées\n",
    "  plot(roc_curves_1[[levels(data_test$Experience_Level)[1]]], col = colors_1[1], lty = 1, lwd = 2, main = paste(\"Courbes ROC superposées (\", model_name_1, \" et \", model_name_2, \")\", sep = \"\"))\n",
    "  lines(roc_curves_1[[levels(data_test$Experience_Level)[2]]], col = colors_1[2], lty = 1, lwd = 2)\n",
    "  lines(roc_curves_1[[levels(data_test$Experience_Level)[3]]], col = colors_1[3], lty = 1, lwd = 2)\n",
    "\n",
    "  lines(roc_curves_2[[levels(data_test$Experience_Level)[1]]], col = colors_2[1], lty = 2, lwd = 2)\n",
    "  lines(roc_curves_2[[levels(data_test$Experience_Level)[2]]], col = colors_2[2], lty = 2, lwd = 2)\n",
    "  lines(roc_curves_2[[levels(data_test$Experience_Level)[3]]], col = colors_2[3], lty = 2, lwd = 2)\n",
    "\n",
    "  # Ajouter une légende\n",
    "  legend(\"bottomright\", legend = c(paste(model_name_1, \"-\", levels(data_test$Experience_Level)), paste(model_name_2, \"-\", levels(data_test$Experience_Level))),\n",
    "         col = c(colors_1, colors_2),\n",
    "         lty = rep(c(1, 2), each = 3), lwd = 2)\n",
    "}"
   ]
  },
  {
   "cell_type": "code",
   "execution_count": 245,
   "id": "2fb076c9-2cc7-4102-a154-7206c24ebaa1",
   "metadata": {},
   "outputs": [
    {
     "data": {
      "image/png": "[encoded data removed]",
      "text/plain": [
       "Plot with title \"Courbes ROC par SVM Radial\""
      ]
     },
     "metadata": {
      "image/png": {
       "height": 600,
       "width": 900
      }
     },
     "output_type": "display_data"
    },
    {
     "data": {
      "image/png": "[encoded data removed]",
      "text/plain": [
       "Plot with title \"Courbes ROC par SVM Polynom\""
      ]
     },
     "metadata": {
      "image/png": {
       "height": 600,
       "width": 900
      }
     },
     "output_type": "display_data"
    },
    {
     "data": {
      "image/png": "[encoded data removed]",
      "text/plain": [
       "Plot with title \"Courbes ROC superposées (SVM Radial et SVM Polynom)\""
      ]
     },
     "metadata": {
      "image/png": {
       "height": 600,
       "width": 900
      }
     },
     "output_type": "display_data"
    }
   ],
   "source": [
    "plot_roc_curves(probabilities_boost, \"SVM Radial\")\n",
    "plot_roc_curves(probabilities_rfq, \"SVM Polynom\")\n",
    "\n",
    "plot_superposed_roc_curves(probabilities_boost, \"SVM Radial\", probabilities_rfq, \"SVM Polynom\")"
   ]
  },
  {
   "cell_type": "code",
   "execution_count": null,
   "id": "decf9f92-d0d8-4e36-8051-3a24426b9ba5",
   "metadata": {},
   "outputs": [],
   "source": []
  }
 ],
 "metadata": {
  "kernelspec": {
   "display_name": "R",
   "language": "R",
   "name": "ir"
  },
  "language_info": {
   "codemirror_mode": "r",
   "file_extension": ".r",
   "mimetype": "text/x-r-source",
   "name": "R",
   "pygments_lexer": "r",
   "version": "4.4.0"
  }
 },
 "nbformat": 4,
 "nbformat_minor": 5
}
