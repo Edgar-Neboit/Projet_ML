

















import pandas as pd
import numpy as np
import math
import matplotlib.pyplot as plt
data=pd.read_csv("gym_members_exercise_tracking.csv",sep=",",header=0)
data.head()
data.dtypes
#On doit vérifier si les types sont bon, par exemple on va interpréter Experience_Level et Workout_Frequency comme des variables qualitatives avec des modalités. 


#Transformation de nos données au bon format voulu
data["Gender"]=pd.Categorical(data["Gender"],ordered=False)
data["Workout_Type"]=pd.Categorical(data["Workout_Type"],ordered=False)
data["Workout_Frequency (days/week)"]=pd.Categorical(data["Workout_Frequency (days/week)"],ordered=False)
data["Experience_Level"]=pd.Categorical(data["Experience_Level"],ordered=False)
data.dtypes


data.describe()





#Variables explicatives
################Variables qualitatives
dataDum=pd.get_dummies(data[["Gender","Workout_Type","Workout_Frequency (days/week)","Experience_Level"]]) 
# pour transformer des variables qualitatives en variables indicatrices, 
# chaque valeur unique de la variable qualitative devient une colonne distincte dans le DataFrame résultant

################Variables quantitatives
dataQuant=data[["Age","Weight (kg)","Height (m)","Max_BPM","Avg_BPM","Resting_BPM","Session_Duration (hours)","Fat_Percentage","Water_Intake (liters)","BMI"]] #Varaibles quanti

# Concaténation des variables explicatives
dfC=pd.concat([dataDum,dataQuant],axis=1)
dfC.head()




#Variables à prédire/expliquer 
YC=data[["Calories_Burned"]]
YC.hist()
plt.show()


from sklearn.model_selection import train_test_split  
Lignes_Data=data.shape[0]
Colonnes_Data=data.shape[1]
Nbre_Element=data.size
Xc_train,Xc_test,YC_train,YC_test=train_test_split(dfC,YC,test_size=0.2,random_state=11) #test_size=0.2 indique qu'on prend 20%






from sklearn.preprocessing import StandardScaler 
scaler = StandardScaler()  
scaler.fit(Xc_train)  
XC_train = scaler.transform(Xc_train)  
# Meme transformation sur le test
XC_test = scaler.transform(Xc_test)





from sklearn import linear_model
from sklearn.metrics import mean_squared_error

regLasso = linear_model.Lasso()
regLasso.fit(XC_train,YC_train)
prev=regLasso.predict(XC_test)
print("MSE=",mean_squared_error(YC_test,prev))


from sklearn.metrics import r2_score
print("R2=",r2_score(YC_test,prev))


from sklearn.model_selection import GridSearchCV
# grille de valeurs du paramètre alpha à optimiser
param=[{"alpha":[0.4,0.5,1,1.2,1.3,1.4,1.5]}]
regLasso = GridSearchCV(linear_model.Lasso(), param,cv=5,n_jobs=-1)
regLassOpt=regLasso.fit(XC_train, YC_train)
# paramètre optimal
regLassOpt.best_params_["alpha"]
print("Meilleur R2 = %f, Meilleur paramètre = %s" % (regLassOpt.best_score_,regLassOpt.best_params_))
##  Meilleur R2 = 0.977484, Meilleur paramètre = {'alpha': 1.3}


prev=regLassOpt.predict(XC_test)
print("MSE=",mean_squared_error(prev,YC_test))
print("R2=",r2_score(YC_test,prev))  #très bonne corrélation 

V_poids=regLassOpt.best_estimator_.coef_ #matrice des poids des coefficients dans la régression
print(V_poids)

noms_parametres = dfC.columns
# Créer un graphique à barres
plt.figure(figsize=(10, 6))
plt.bar(noms_parametres, V_poids, color='skyblue')
plt.xlabel('Noms des Paramètres')
plt.ylabel('Coefficients')
plt.title('Coefficients des Poids dans la Régression Lasso')
plt.xticks(rotation=45, ha='right')
plt.tight_layout()

# Afficher le graphique
plt.show()


plt.plot(prev,YC_test,"o")
plt.plot(prev,prev)
plt.xlabel(u"Cal prédite")
plt.ylabel("Cal observee")
plt.show()

print(YC_test)


plt.plot(prev,YC_test["Calories_Burned"]-prev,"o",label='Résidus')
plt.xlabel(u"Prédites")
plt.ylabel(u"Résidus")
plt.hlines(0, min(prev), max(prev), colors='red', linestyles='dashed', label='Ligne de référence')
plt.legend()
plt.title("Graphique des Résidus")
plt.show()


# Coefficients

regLasso=linear_model.Lasso(alpha=regLassOpt.best_params_['alpha'])
model_lasso=regLasso.fit(XC_train,YC_train)
model_lasso.coef_
coef = pd.Series(model_lasso.coef_, index = Xc_train.columns)
print("Lasso conserve " + str(sum(coef != 0)) + 
      " variables et en supprime " +  str(sum(coef == 0)))


imp_coef = coef.sort_values()
plt.rcParams['figure.figsize'] = (8.0, 10.0)
imp_coef.plot(kind = "barh")
plt.title(u"Coefficients du modèle lasso")
